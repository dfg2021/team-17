{
  "nbformat": 4,
  "nbformat_minor": 0,
  "metadata": {
    "kernelspec": {
      "display_name": "Python 3",
      "language": "python",
      "name": "python3"
    },
    "language_info": {
      "codemirror_mode": {
        "name": "ipython",
        "version": 3
      },
      "file_extension": ".py",
      "mimetype": "text/x-python",
      "name": "python",
      "nbconvert_exporter": "python",
      "pygments_lexer": "ipython3",
      "version": "3.8.5"
    },
    "colab": {
      "name": "Data For Good_Team17.ipynb",
      "provenance": [],
      "collapsed_sections": []
    }
  },
  "cells": [
    {
      "cell_type": "code",
      "metadata": {
        "id": "8lXUJ-HkPioz"
      },
      "source": [
        "from google.colab import drive\n",
        "drive.mount('/content/drive')"
      ],
      "execution_count": null,
      "outputs": []
    },
    {
      "cell_type": "code",
      "metadata": {
        "id": "_8vw6OEIPI-l"
      },
      "source": [
        "import pandas as pd\n",
        "import numpy as np\n",
        "import matplotlib.pyplot as plt\n",
        "import seaborn as sns\n",
        "import time\n",
        "from sklearn.metrics import mean_squared_error\n",
        "import warnings\n",
        "warnings.filterwarnings('ignore')\n",
        "%matplotlib inline"
      ],
      "execution_count": null,
      "outputs": []
    },
    {
      "cell_type": "markdown",
      "metadata": {
        "id": "1z4P0Zed9MHG"
      },
      "source": [
        "**Load the Data**"
      ]
    },
    {
      "cell_type": "code",
      "metadata": {
        "id": "u8KaH_Y5PI-n",
        "colab": {
          "base_uri": "https://localhost:8080/"
        },
        "outputId": "1ca5e26a-2783-4476-c7e6-ce30fed60de5"
      },
      "source": [
        "# Load the data\n",
        "df = pd.read_csv('/content/drive/MyDrive/Goal4.csv')\n",
        "df.shape"
      ],
      "execution_count": 239,
      "outputs": [
        {
          "output_type": "execute_result",
          "data": {
            "text/plain": [
              "(191762, 52)"
            ]
          },
          "metadata": {
            "tags": []
          },
          "execution_count": 239
        }
      ]
    },
    {
      "cell_type": "code",
      "metadata": {
        "id": "91SWBZxoPI-n",
        "colab": {
          "base_uri": "https://localhost:8080/",
          "height": 334
        },
        "outputId": "5259b755-b6cf-4acc-c519-a551b8b03868"
      },
      "source": [
        "df.describe() "
      ],
      "execution_count": 240,
      "outputs": [
        {
          "output_type": "execute_result",
          "data": {
            "text/html": [
              "<div>\n",
              "<style scoped>\n",
              "    .dataframe tbody tr th:only-of-type {\n",
              "        vertical-align: middle;\n",
              "    }\n",
              "\n",
              "    .dataframe tbody tr th {\n",
              "        vertical-align: top;\n",
              "    }\n",
              "\n",
              "    .dataframe thead th {\n",
              "        text-align: right;\n",
              "    }\n",
              "</style>\n",
              "<table border=\"1\" class=\"dataframe\">\n",
              "  <thead>\n",
              "    <tr style=\"text-align: right;\">\n",
              "      <th></th>\n",
              "      <th>Goal</th>\n",
              "      <th>GeoAreaCode</th>\n",
              "      <th>TimePeriod</th>\n",
              "      <th>Value</th>\n",
              "      <th>TimeCoverage</th>\n",
              "      <th>UpperBound</th>\n",
              "      <th>LowerBound</th>\n",
              "      <th>BasePeriod</th>\n",
              "      <th>GeoInfoUrl</th>\n",
              "      <th>Unnamed: 26</th>\n",
              "      <th>Unnamed: 27</th>\n",
              "      <th>Unnamed: 28</th>\n",
              "      <th>Unnamed: 29</th>\n",
              "      <th>Unnamed: 30</th>\n",
              "      <th>Unnamed: 31</th>\n",
              "      <th>Unnamed: 32</th>\n",
              "      <th>Unnamed: 33</th>\n",
              "      <th>Unnamed: 34</th>\n",
              "      <th>Unnamed: 35</th>\n",
              "      <th>Unnamed: 36</th>\n",
              "      <th>Unnamed: 37</th>\n",
              "      <th>Unnamed: 38</th>\n",
              "      <th>Unnamed: 39</th>\n",
              "      <th>Unnamed: 40</th>\n",
              "      <th>Unnamed: 41</th>\n",
              "      <th>Unnamed: 42</th>\n",
              "      <th>Unnamed: 43</th>\n",
              "      <th>Unnamed: 44</th>\n",
              "      <th>Unnamed: 45</th>\n",
              "      <th>Unnamed: 46</th>\n",
              "      <th>Unnamed: 47</th>\n",
              "      <th>Unnamed: 48</th>\n",
              "      <th>Unnamed: 49</th>\n",
              "      <th>Unnamed: 50</th>\n",
              "      <th>Unnamed: 51</th>\n",
              "    </tr>\n",
              "  </thead>\n",
              "  <tbody>\n",
              "    <tr>\n",
              "      <th>count</th>\n",
              "      <td>191762.0</td>\n",
              "      <td>191762.000000</td>\n",
              "      <td>191762.000000</td>\n",
              "      <td>179570.000000</td>\n",
              "      <td>0.0</td>\n",
              "      <td>0.0</td>\n",
              "      <td>0.0</td>\n",
              "      <td>2276.0</td>\n",
              "      <td>0.0</td>\n",
              "      <td>0.0</td>\n",
              "      <td>0.0</td>\n",
              "      <td>0.0</td>\n",
              "      <td>0.0</td>\n",
              "      <td>0.0</td>\n",
              "      <td>0.0</td>\n",
              "      <td>0.0</td>\n",
              "      <td>0.0</td>\n",
              "      <td>0.0</td>\n",
              "      <td>0.0</td>\n",
              "      <td>0.0</td>\n",
              "      <td>0.0</td>\n",
              "      <td>0.0</td>\n",
              "      <td>0.0</td>\n",
              "      <td>0.0</td>\n",
              "      <td>0.0</td>\n",
              "      <td>0.0</td>\n",
              "      <td>0.0</td>\n",
              "      <td>0.0</td>\n",
              "      <td>0.0</td>\n",
              "      <td>0.0</td>\n",
              "      <td>0.0</td>\n",
              "      <td>0.0</td>\n",
              "      <td>0.0</td>\n",
              "      <td>0.0</td>\n",
              "      <td>0.0</td>\n",
              "    </tr>\n",
              "    <tr>\n",
              "      <th>mean</th>\n",
              "      <td>4.0</td>\n",
              "      <td>396.544002</td>\n",
              "      <td>2010.212284</td>\n",
              "      <td>41.595042</td>\n",
              "      <td>NaN</td>\n",
              "      <td>NaN</td>\n",
              "      <td>NaN</td>\n",
              "      <td>2018.0</td>\n",
              "      <td>NaN</td>\n",
              "      <td>NaN</td>\n",
              "      <td>NaN</td>\n",
              "      <td>NaN</td>\n",
              "      <td>NaN</td>\n",
              "      <td>NaN</td>\n",
              "      <td>NaN</td>\n",
              "      <td>NaN</td>\n",
              "      <td>NaN</td>\n",
              "      <td>NaN</td>\n",
              "      <td>NaN</td>\n",
              "      <td>NaN</td>\n",
              "      <td>NaN</td>\n",
              "      <td>NaN</td>\n",
              "      <td>NaN</td>\n",
              "      <td>NaN</td>\n",
              "      <td>NaN</td>\n",
              "      <td>NaN</td>\n",
              "      <td>NaN</td>\n",
              "      <td>NaN</td>\n",
              "      <td>NaN</td>\n",
              "      <td>NaN</td>\n",
              "      <td>NaN</td>\n",
              "      <td>NaN</td>\n",
              "      <td>NaN</td>\n",
              "      <td>NaN</td>\n",
              "      <td>NaN</td>\n",
              "    </tr>\n",
              "    <tr>\n",
              "      <th>std</th>\n",
              "      <td>0.0</td>\n",
              "      <td>250.320400</td>\n",
              "      <td>5.169051</td>\n",
              "      <td>41.230603</td>\n",
              "      <td>NaN</td>\n",
              "      <td>NaN</td>\n",
              "      <td>NaN</td>\n",
              "      <td>0.0</td>\n",
              "      <td>NaN</td>\n",
              "      <td>NaN</td>\n",
              "      <td>NaN</td>\n",
              "      <td>NaN</td>\n",
              "      <td>NaN</td>\n",
              "      <td>NaN</td>\n",
              "      <td>NaN</td>\n",
              "      <td>NaN</td>\n",
              "      <td>NaN</td>\n",
              "      <td>NaN</td>\n",
              "      <td>NaN</td>\n",
              "      <td>NaN</td>\n",
              "      <td>NaN</td>\n",
              "      <td>NaN</td>\n",
              "      <td>NaN</td>\n",
              "      <td>NaN</td>\n",
              "      <td>NaN</td>\n",
              "      <td>NaN</td>\n",
              "      <td>NaN</td>\n",
              "      <td>NaN</td>\n",
              "      <td>NaN</td>\n",
              "      <td>NaN</td>\n",
              "      <td>NaN</td>\n",
              "      <td>NaN</td>\n",
              "      <td>NaN</td>\n",
              "      <td>NaN</td>\n",
              "      <td>NaN</td>\n",
              "    </tr>\n",
              "    <tr>\n",
              "      <th>min</th>\n",
              "      <td>4.0</td>\n",
              "      <td>1.000000</td>\n",
              "      <td>2000.000000</td>\n",
              "      <td>0.000000</td>\n",
              "      <td>NaN</td>\n",
              "      <td>NaN</td>\n",
              "      <td>NaN</td>\n",
              "      <td>2018.0</td>\n",
              "      <td>NaN</td>\n",
              "      <td>NaN</td>\n",
              "      <td>NaN</td>\n",
              "      <td>NaN</td>\n",
              "      <td>NaN</td>\n",
              "      <td>NaN</td>\n",
              "      <td>NaN</td>\n",
              "      <td>NaN</td>\n",
              "      <td>NaN</td>\n",
              "      <td>NaN</td>\n",
              "      <td>NaN</td>\n",
              "      <td>NaN</td>\n",
              "      <td>NaN</td>\n",
              "      <td>NaN</td>\n",
              "      <td>NaN</td>\n",
              "      <td>NaN</td>\n",
              "      <td>NaN</td>\n",
              "      <td>NaN</td>\n",
              "      <td>NaN</td>\n",
              "      <td>NaN</td>\n",
              "      <td>NaN</td>\n",
              "      <td>NaN</td>\n",
              "      <td>NaN</td>\n",
              "      <td>NaN</td>\n",
              "      <td>NaN</td>\n",
              "      <td>NaN</td>\n",
              "      <td>NaN</td>\n",
              "    </tr>\n",
              "    <tr>\n",
              "      <th>25%</th>\n",
              "      <td>4.0</td>\n",
              "      <td>188.000000</td>\n",
              "      <td>2006.000000</td>\n",
              "      <td>1.001600</td>\n",
              "      <td>NaN</td>\n",
              "      <td>NaN</td>\n",
              "      <td>NaN</td>\n",
              "      <td>2018.0</td>\n",
              "      <td>NaN</td>\n",
              "      <td>NaN</td>\n",
              "      <td>NaN</td>\n",
              "      <td>NaN</td>\n",
              "      <td>NaN</td>\n",
              "      <td>NaN</td>\n",
              "      <td>NaN</td>\n",
              "      <td>NaN</td>\n",
              "      <td>NaN</td>\n",
              "      <td>NaN</td>\n",
              "      <td>NaN</td>\n",
              "      <td>NaN</td>\n",
              "      <td>NaN</td>\n",
              "      <td>NaN</td>\n",
              "      <td>NaN</td>\n",
              "      <td>NaN</td>\n",
              "      <td>NaN</td>\n",
              "      <td>NaN</td>\n",
              "      <td>NaN</td>\n",
              "      <td>NaN</td>\n",
              "      <td>NaN</td>\n",
              "      <td>NaN</td>\n",
              "      <td>NaN</td>\n",
              "      <td>NaN</td>\n",
              "      <td>NaN</td>\n",
              "      <td>NaN</td>\n",
              "      <td>NaN</td>\n",
              "    </tr>\n",
              "    <tr>\n",
              "      <th>50%</th>\n",
              "      <td>4.0</td>\n",
              "      <td>372.000000</td>\n",
              "      <td>2011.000000</td>\n",
              "      <td>34.134145</td>\n",
              "      <td>NaN</td>\n",
              "      <td>NaN</td>\n",
              "      <td>NaN</td>\n",
              "      <td>2018.0</td>\n",
              "      <td>NaN</td>\n",
              "      <td>NaN</td>\n",
              "      <td>NaN</td>\n",
              "      <td>NaN</td>\n",
              "      <td>NaN</td>\n",
              "      <td>NaN</td>\n",
              "      <td>NaN</td>\n",
              "      <td>NaN</td>\n",
              "      <td>NaN</td>\n",
              "      <td>NaN</td>\n",
              "      <td>NaN</td>\n",
              "      <td>NaN</td>\n",
              "      <td>NaN</td>\n",
              "      <td>NaN</td>\n",
              "      <td>NaN</td>\n",
              "      <td>NaN</td>\n",
              "      <td>NaN</td>\n",
              "      <td>NaN</td>\n",
              "      <td>NaN</td>\n",
              "      <td>NaN</td>\n",
              "      <td>NaN</td>\n",
              "      <td>NaN</td>\n",
              "      <td>NaN</td>\n",
              "      <td>NaN</td>\n",
              "      <td>NaN</td>\n",
              "      <td>NaN</td>\n",
              "      <td>NaN</td>\n",
              "    </tr>\n",
              "    <tr>\n",
              "      <th>75%</th>\n",
              "      <td>4.0</td>\n",
              "      <td>600.000000</td>\n",
              "      <td>2015.000000</td>\n",
              "      <td>83.482728</td>\n",
              "      <td>NaN</td>\n",
              "      <td>NaN</td>\n",
              "      <td>NaN</td>\n",
              "      <td>2018.0</td>\n",
              "      <td>NaN</td>\n",
              "      <td>NaN</td>\n",
              "      <td>NaN</td>\n",
              "      <td>NaN</td>\n",
              "      <td>NaN</td>\n",
              "      <td>NaN</td>\n",
              "      <td>NaN</td>\n",
              "      <td>NaN</td>\n",
              "      <td>NaN</td>\n",
              "      <td>NaN</td>\n",
              "      <td>NaN</td>\n",
              "      <td>NaN</td>\n",
              "      <td>NaN</td>\n",
              "      <td>NaN</td>\n",
              "      <td>NaN</td>\n",
              "      <td>NaN</td>\n",
              "      <td>NaN</td>\n",
              "      <td>NaN</td>\n",
              "      <td>NaN</td>\n",
              "      <td>NaN</td>\n",
              "      <td>NaN</td>\n",
              "      <td>NaN</td>\n",
              "      <td>NaN</td>\n",
              "      <td>NaN</td>\n",
              "      <td>NaN</td>\n",
              "      <td>NaN</td>\n",
              "      <td>NaN</td>\n",
              "    </tr>\n",
              "    <tr>\n",
              "      <th>max</th>\n",
              "      <td>4.0</td>\n",
              "      <td>921.000000</td>\n",
              "      <td>2020.000000</td>\n",
              "      <td>1632.065770</td>\n",
              "      <td>NaN</td>\n",
              "      <td>NaN</td>\n",
              "      <td>NaN</td>\n",
              "      <td>2018.0</td>\n",
              "      <td>NaN</td>\n",
              "      <td>NaN</td>\n",
              "      <td>NaN</td>\n",
              "      <td>NaN</td>\n",
              "      <td>NaN</td>\n",
              "      <td>NaN</td>\n",
              "      <td>NaN</td>\n",
              "      <td>NaN</td>\n",
              "      <td>NaN</td>\n",
              "      <td>NaN</td>\n",
              "      <td>NaN</td>\n",
              "      <td>NaN</td>\n",
              "      <td>NaN</td>\n",
              "      <td>NaN</td>\n",
              "      <td>NaN</td>\n",
              "      <td>NaN</td>\n",
              "      <td>NaN</td>\n",
              "      <td>NaN</td>\n",
              "      <td>NaN</td>\n",
              "      <td>NaN</td>\n",
              "      <td>NaN</td>\n",
              "      <td>NaN</td>\n",
              "      <td>NaN</td>\n",
              "      <td>NaN</td>\n",
              "      <td>NaN</td>\n",
              "      <td>NaN</td>\n",
              "      <td>NaN</td>\n",
              "    </tr>\n",
              "  </tbody>\n",
              "</table>\n",
              "</div>"
            ],
            "text/plain": [
              "           Goal    GeoAreaCode  ...  Unnamed: 50  Unnamed: 51\n",
              "count  191762.0  191762.000000  ...          0.0          0.0\n",
              "mean        4.0     396.544002  ...          NaN          NaN\n",
              "std         0.0     250.320400  ...          NaN          NaN\n",
              "min         4.0       1.000000  ...          NaN          NaN\n",
              "25%         4.0     188.000000  ...          NaN          NaN\n",
              "50%         4.0     372.000000  ...          NaN          NaN\n",
              "75%         4.0     600.000000  ...          NaN          NaN\n",
              "max         4.0     921.000000  ...          NaN          NaN\n",
              "\n",
              "[8 rows x 35 columns]"
            ]
          },
          "metadata": {
            "tags": []
          },
          "execution_count": 240
        }
      ]
    },
    {
      "cell_type": "code",
      "metadata": {
        "id": "01-TLWNTQFqf",
        "colab": {
          "base_uri": "https://localhost:8080/"
        },
        "outputId": "af91674a-df42-4e81-8969-c5573499ff0d"
      },
      "source": [
        "df.columns"
      ],
      "execution_count": 241,
      "outputs": [
        {
          "output_type": "execute_result",
          "data": {
            "text/plain": [
              "Index(['Goal', 'Target', 'Indicator', 'SeriesCode', 'SeriesDescription',\n",
              "       'GeoAreaCode', 'GeoAreaName', 'TimePeriod', 'Value', 'Time_Detail',\n",
              "       'TimeCoverage', 'UpperBound', 'LowerBound', 'BasePeriod', 'Source',\n",
              "       'GeoInfoUrl', 'FootNote', 'Age', 'Education level', 'Location',\n",
              "       'Nature', 'Quantile', 'Reporting Type', 'Sex', 'Type of skill', 'Units',\n",
              "       'Unnamed: 26', 'Unnamed: 27', 'Unnamed: 28', 'Unnamed: 29',\n",
              "       'Unnamed: 30', 'Unnamed: 31', 'Unnamed: 32', 'Unnamed: 33',\n",
              "       'Unnamed: 34', 'Unnamed: 35', 'Unnamed: 36', 'Unnamed: 37',\n",
              "       'Unnamed: 38', 'Unnamed: 39', 'Unnamed: 40', 'Unnamed: 41',\n",
              "       'Unnamed: 42', 'Unnamed: 43', 'Unnamed: 44', 'Unnamed: 45',\n",
              "       'Unnamed: 46', 'Unnamed: 47', 'Unnamed: 48', 'Unnamed: 49',\n",
              "       'Unnamed: 50', 'Unnamed: 51'],\n",
              "      dtype='object')"
            ]
          },
          "metadata": {
            "tags": []
          },
          "execution_count": 241
        }
      ]
    },
    {
      "cell_type": "markdown",
      "metadata": {
        "id": "Y0OvStpX9Zlo"
      },
      "source": [
        "Choosing the SeriesDescription as the Proportion of children and young people achieving a minimum proficiency level in reading and mathematics (%)"
      ]
    },
    {
      "cell_type": "code",
      "metadata": {
        "colab": {
          "base_uri": "https://localhost:8080/"
        },
        "id": "m_SLkJJcphZl",
        "outputId": "4d3edc62-6ba0-482d-90ff-b45ffb27f169"
      },
      "source": [
        "df[\"SeriesDescription\"].unique()"
      ],
      "execution_count": 242,
      "outputs": [
        {
          "output_type": "execute_result",
          "data": {
            "text/plain": [
              "array(['Proportion of children and young people achieving a minimum proficiency level in reading and mathematics (%)',\n",
              "       'Completion rate, by sex, location, wealth quintile and education level (%)',\n",
              "       'Proportion of children aged 36−59 months who are developmentally on track in at least three of the following domains: literacy-numeracy, physical development, social-emotional development, and learning (% of children aged 36-59 months)',\n",
              "       'Participation rate in organized learning (one year before the official primary entry age), by sex (%)',\n",
              "       'Participation rate in formal and non-formal education and training, by sex (%)',\n",
              "       'Proportion of youth and adults with information and communications technology (ICT) skills, by sex and type of skill (%)',\n",
              "       'Adjusted gender parity index for completion rate, by sex, location, wealth quintile and education level',\n",
              "       'Adjusted location parity index for completion rate, by sex, location, wealth quintile and education level',\n",
              "       'Adjusted wealth parity index for completion rate, by sex, location, wealth quintile and education level',\n",
              "       'Gender parity index for youth/adults with information and communications technology (ICT) skills, by type of skill (ratio)',\n",
              "       'Gender parity index for participation rate in formal and non-formal education and training (ratio)',\n",
              "       'Gender parity index for participation rate in organized learning (one year before the official primary entry age), (ratio)',\n",
              "       'Gender parity index of trained teachers, by education level (ratio)',\n",
              "       'Immigration status parity index for achieving at least a fixed level of proficiency in functional skills, by numeracy/literacy skills (ratio)',\n",
              "       'Language test parity index for achievement (ratio)',\n",
              "       'Native parity index for achievement (ratio)',\n",
              "       'Gender parity index for achievement (ratio)',\n",
              "       'Rural to urban parity index for achievement (ratio)',\n",
              "       'Low to high socio-economic parity status index for achievement (ratio)',\n",
              "       'Proportion of population achieving at least a fixed level of proficiency in functional skills, by sex, age and type of skill (%)',\n",
              "       'Schools with basic handwashing facilities, by education level (%)',\n",
              "       'Schools with access to\\xa0computers for pedagogical purposes, by education level (%)',\n",
              "       'Schools with access to\\xa0electricity, by education level (%)',\n",
              "       'Schools with access to basic drinking water, by education level (%)',\n",
              "       'Schools with access to the internet for pedagogical purposes, by education level (%)',\n",
              "       'Schools with access to\\xa0access to single-sex basic sanitation, by education level (%)',\n",
              "       'Proportion of schools with access to adapted infrastructure and materials for students with disabilities, by education level (%)',\n",
              "       'Total official flows for scholarships, by recipient countries (millions of constant 2018 United States dollars)',\n",
              "       'Proportion of teachers who have received at least the minimum organized teacher training (e.g. pedagogical training) pre-service or in-service required for teaching at the relevant level in a given country, by sex and education level (%)'],\n",
              "      dtype=object)"
            ]
          },
          "metadata": {
            "tags": []
          },
          "execution_count": 242
        }
      ]
    },
    {
      "cell_type": "code",
      "metadata": {
        "id": "1QuMLS2mp57d"
      },
      "source": [
        "df_SeriesDescription = df[df[\"SeriesDescription\"] == \"Proportion of children and young people achieving a minimum proficiency level in reading and mathematics (%)\"]"
      ],
      "execution_count": null,
      "outputs": []
    },
    {
      "cell_type": "code",
      "metadata": {
        "colab": {
          "base_uri": "https://localhost:8080/",
          "height": 966
        },
        "id": "Jy9QSPUHqjgD",
        "outputId": "37363707-9f76-44f1-9ece-aabc96c03234"
      },
      "source": [
        "df_SeriesDescription"
      ],
      "execution_count": null,
      "outputs": [
        {
          "output_type": "execute_result",
          "data": {
            "text/html": [
              "<div>\n",
              "<style scoped>\n",
              "    .dataframe tbody tr th:only-of-type {\n",
              "        vertical-align: middle;\n",
              "    }\n",
              "\n",
              "    .dataframe tbody tr th {\n",
              "        vertical-align: top;\n",
              "    }\n",
              "\n",
              "    .dataframe thead th {\n",
              "        text-align: right;\n",
              "    }\n",
              "</style>\n",
              "<table border=\"1\" class=\"dataframe\">\n",
              "  <thead>\n",
              "    <tr style=\"text-align: right;\">\n",
              "      <th></th>\n",
              "      <th>Goal</th>\n",
              "      <th>Target</th>\n",
              "      <th>Indicator</th>\n",
              "      <th>SeriesCode</th>\n",
              "      <th>SeriesDescription</th>\n",
              "      <th>GeoAreaCode</th>\n",
              "      <th>GeoAreaName</th>\n",
              "      <th>TimePeriod</th>\n",
              "      <th>Value</th>\n",
              "      <th>Time_Detail</th>\n",
              "      <th>TimeCoverage</th>\n",
              "      <th>UpperBound</th>\n",
              "      <th>LowerBound</th>\n",
              "      <th>BasePeriod</th>\n",
              "      <th>Source</th>\n",
              "      <th>GeoInfoUrl</th>\n",
              "      <th>FootNote</th>\n",
              "      <th>Age</th>\n",
              "      <th>Education level</th>\n",
              "      <th>Location</th>\n",
              "      <th>Nature</th>\n",
              "      <th>Quantile</th>\n",
              "      <th>Reporting Type</th>\n",
              "      <th>Sex</th>\n",
              "      <th>Type of skill</th>\n",
              "      <th>Units</th>\n",
              "      <th>Unnamed: 26</th>\n",
              "      <th>Unnamed: 27</th>\n",
              "      <th>Unnamed: 28</th>\n",
              "      <th>Unnamed: 29</th>\n",
              "      <th>Unnamed: 30</th>\n",
              "      <th>Unnamed: 31</th>\n",
              "      <th>Unnamed: 32</th>\n",
              "      <th>Unnamed: 33</th>\n",
              "      <th>Unnamed: 34</th>\n",
              "      <th>Unnamed: 35</th>\n",
              "      <th>Unnamed: 36</th>\n",
              "      <th>Unnamed: 37</th>\n",
              "      <th>Unnamed: 38</th>\n",
              "      <th>Unnamed: 39</th>\n",
              "      <th>Unnamed: 40</th>\n",
              "      <th>Unnamed: 41</th>\n",
              "      <th>Unnamed: 42</th>\n",
              "      <th>Unnamed: 43</th>\n",
              "      <th>Unnamed: 44</th>\n",
              "      <th>Unnamed: 45</th>\n",
              "      <th>Unnamed: 46</th>\n",
              "      <th>Unnamed: 47</th>\n",
              "      <th>Unnamed: 48</th>\n",
              "      <th>Unnamed: 49</th>\n",
              "      <th>Unnamed: 50</th>\n",
              "      <th>Unnamed: 51</th>\n",
              "    </tr>\n",
              "  </thead>\n",
              "  <tbody>\n",
              "    <tr>\n",
              "      <th>0</th>\n",
              "      <td>4</td>\n",
              "      <td>4.1</td>\n",
              "      <td>4.1.1</td>\n",
              "      <td>SE_TOT_PRFL</td>\n",
              "      <td>Proportion of children and young people achiev...</td>\n",
              "      <td>4</td>\n",
              "      <td>Afghanistan</td>\n",
              "      <td>2013</td>\n",
              "      <td>11.000000</td>\n",
              "      <td>2013</td>\n",
              "      <td>NaN</td>\n",
              "      <td>NaN</td>\n",
              "      <td>NaN</td>\n",
              "      <td>NaN</td>\n",
              "      <td>National Learning Assessment (NLA): Monitoring...</td>\n",
              "      <td>NaN</td>\n",
              "      <td>NaN</td>\n",
              "      <td>NaN</td>\n",
              "      <td>PRIMAR</td>\n",
              "      <td>NaN</td>\n",
              "      <td>C</td>\n",
              "      <td>NaN</td>\n",
              "      <td>G</td>\n",
              "      <td>BOTHSEX</td>\n",
              "      <td>SKILL_MATH</td>\n",
              "      <td>PERCENT</td>\n",
              "      <td>NaN</td>\n",
              "      <td>NaN</td>\n",
              "      <td>NaN</td>\n",
              "      <td>NaN</td>\n",
              "      <td>NaN</td>\n",
              "      <td>NaN</td>\n",
              "      <td>NaN</td>\n",
              "      <td>NaN</td>\n",
              "      <td>NaN</td>\n",
              "      <td>NaN</td>\n",
              "      <td>NaN</td>\n",
              "      <td>NaN</td>\n",
              "      <td>NaN</td>\n",
              "      <td>NaN</td>\n",
              "      <td>NaN</td>\n",
              "      <td>NaN</td>\n",
              "      <td>NaN</td>\n",
              "      <td>NaN</td>\n",
              "      <td>NaN</td>\n",
              "      <td>NaN</td>\n",
              "      <td>NaN</td>\n",
              "      <td>NaN</td>\n",
              "      <td>NaN</td>\n",
              "      <td>NaN</td>\n",
              "      <td>NaN</td>\n",
              "      <td>NaN</td>\n",
              "    </tr>\n",
              "    <tr>\n",
              "      <th>1</th>\n",
              "      <td>4</td>\n",
              "      <td>4.1</td>\n",
              "      <td>4.1.1</td>\n",
              "      <td>SE_TOT_PRFL</td>\n",
              "      <td>Proportion of children and young people achiev...</td>\n",
              "      <td>4</td>\n",
              "      <td>Afghanistan</td>\n",
              "      <td>2013</td>\n",
              "      <td>13.000000</td>\n",
              "      <td>2013</td>\n",
              "      <td>NaN</td>\n",
              "      <td>NaN</td>\n",
              "      <td>NaN</td>\n",
              "      <td>NaN</td>\n",
              "      <td>National Learning Assessment (NLA): Monitoring...</td>\n",
              "      <td>NaN</td>\n",
              "      <td>NaN</td>\n",
              "      <td>NaN</td>\n",
              "      <td>PRIMAR</td>\n",
              "      <td>NaN</td>\n",
              "      <td>C</td>\n",
              "      <td>NaN</td>\n",
              "      <td>G</td>\n",
              "      <td>BOTHSEX</td>\n",
              "      <td>SKILL_READ</td>\n",
              "      <td>PERCENT</td>\n",
              "      <td>NaN</td>\n",
              "      <td>NaN</td>\n",
              "      <td>NaN</td>\n",
              "      <td>NaN</td>\n",
              "      <td>NaN</td>\n",
              "      <td>NaN</td>\n",
              "      <td>NaN</td>\n",
              "      <td>NaN</td>\n",
              "      <td>NaN</td>\n",
              "      <td>NaN</td>\n",
              "      <td>NaN</td>\n",
              "      <td>NaN</td>\n",
              "      <td>NaN</td>\n",
              "      <td>NaN</td>\n",
              "      <td>NaN</td>\n",
              "      <td>NaN</td>\n",
              "      <td>NaN</td>\n",
              "      <td>NaN</td>\n",
              "      <td>NaN</td>\n",
              "      <td>NaN</td>\n",
              "      <td>NaN</td>\n",
              "      <td>NaN</td>\n",
              "      <td>NaN</td>\n",
              "      <td>NaN</td>\n",
              "      <td>NaN</td>\n",
              "      <td>NaN</td>\n",
              "    </tr>\n",
              "    <tr>\n",
              "      <th>2</th>\n",
              "      <td>4</td>\n",
              "      <td>4.1</td>\n",
              "      <td>4.1.1</td>\n",
              "      <td>SE_TOT_PRFL</td>\n",
              "      <td>Proportion of children and young people achiev...</td>\n",
              "      <td>4</td>\n",
              "      <td>Afghanistan</td>\n",
              "      <td>2016</td>\n",
              "      <td>21.500000</td>\n",
              "      <td>2016</td>\n",
              "      <td>NaN</td>\n",
              "      <td>NaN</td>\n",
              "      <td>NaN</td>\n",
              "      <td>NaN</td>\n",
              "      <td>National Learning Assessment (NLA): Monitoring...</td>\n",
              "      <td>NaN</td>\n",
              "      <td>NaN</td>\n",
              "      <td>NaN</td>\n",
              "      <td>GRAD23</td>\n",
              "      <td>NaN</td>\n",
              "      <td>C</td>\n",
              "      <td>NaN</td>\n",
              "      <td>G</td>\n",
              "      <td>MALE</td>\n",
              "      <td>SKILL_READ</td>\n",
              "      <td>PERCENT</td>\n",
              "      <td>NaN</td>\n",
              "      <td>NaN</td>\n",
              "      <td>NaN</td>\n",
              "      <td>NaN</td>\n",
              "      <td>NaN</td>\n",
              "      <td>NaN</td>\n",
              "      <td>NaN</td>\n",
              "      <td>NaN</td>\n",
              "      <td>NaN</td>\n",
              "      <td>NaN</td>\n",
              "      <td>NaN</td>\n",
              "      <td>NaN</td>\n",
              "      <td>NaN</td>\n",
              "      <td>NaN</td>\n",
              "      <td>NaN</td>\n",
              "      <td>NaN</td>\n",
              "      <td>NaN</td>\n",
              "      <td>NaN</td>\n",
              "      <td>NaN</td>\n",
              "      <td>NaN</td>\n",
              "      <td>NaN</td>\n",
              "      <td>NaN</td>\n",
              "      <td>NaN</td>\n",
              "      <td>NaN</td>\n",
              "      <td>NaN</td>\n",
              "      <td>NaN</td>\n",
              "    </tr>\n",
              "    <tr>\n",
              "      <th>3</th>\n",
              "      <td>4</td>\n",
              "      <td>4.1</td>\n",
              "      <td>4.1.1</td>\n",
              "      <td>SE_TOT_PRFL</td>\n",
              "      <td>Proportion of children and young people achiev...</td>\n",
              "      <td>4</td>\n",
              "      <td>Afghanistan</td>\n",
              "      <td>2016</td>\n",
              "      <td>22.500000</td>\n",
              "      <td>2016</td>\n",
              "      <td>NaN</td>\n",
              "      <td>NaN</td>\n",
              "      <td>NaN</td>\n",
              "      <td>NaN</td>\n",
              "      <td>National Learning Assessment (NLA): Monitoring...</td>\n",
              "      <td>NaN</td>\n",
              "      <td>NaN</td>\n",
              "      <td>NaN</td>\n",
              "      <td>GRAD23</td>\n",
              "      <td>NaN</td>\n",
              "      <td>C</td>\n",
              "      <td>NaN</td>\n",
              "      <td>G</td>\n",
              "      <td>FEMALE</td>\n",
              "      <td>SKILL_READ</td>\n",
              "      <td>PERCENT</td>\n",
              "      <td>NaN</td>\n",
              "      <td>NaN</td>\n",
              "      <td>NaN</td>\n",
              "      <td>NaN</td>\n",
              "      <td>NaN</td>\n",
              "      <td>NaN</td>\n",
              "      <td>NaN</td>\n",
              "      <td>NaN</td>\n",
              "      <td>NaN</td>\n",
              "      <td>NaN</td>\n",
              "      <td>NaN</td>\n",
              "      <td>NaN</td>\n",
              "      <td>NaN</td>\n",
              "      <td>NaN</td>\n",
              "      <td>NaN</td>\n",
              "      <td>NaN</td>\n",
              "      <td>NaN</td>\n",
              "      <td>NaN</td>\n",
              "      <td>NaN</td>\n",
              "      <td>NaN</td>\n",
              "      <td>NaN</td>\n",
              "      <td>NaN</td>\n",
              "      <td>NaN</td>\n",
              "      <td>NaN</td>\n",
              "      <td>NaN</td>\n",
              "      <td>NaN</td>\n",
              "    </tr>\n",
              "    <tr>\n",
              "      <th>4</th>\n",
              "      <td>4</td>\n",
              "      <td>4.1</td>\n",
              "      <td>4.1.1</td>\n",
              "      <td>SE_TOT_PRFL</td>\n",
              "      <td>Proportion of children and young people achiev...</td>\n",
              "      <td>4</td>\n",
              "      <td>Afghanistan</td>\n",
              "      <td>2016</td>\n",
              "      <td>22.000000</td>\n",
              "      <td>2016</td>\n",
              "      <td>NaN</td>\n",
              "      <td>NaN</td>\n",
              "      <td>NaN</td>\n",
              "      <td>NaN</td>\n",
              "      <td>National Learning Assessment (NLA): Monitoring...</td>\n",
              "      <td>NaN</td>\n",
              "      <td>NaN</td>\n",
              "      <td>NaN</td>\n",
              "      <td>GRAD23</td>\n",
              "      <td>NaN</td>\n",
              "      <td>C</td>\n",
              "      <td>NaN</td>\n",
              "      <td>G</td>\n",
              "      <td>BOTHSEX</td>\n",
              "      <td>SKILL_READ</td>\n",
              "      <td>PERCENT</td>\n",
              "      <td>NaN</td>\n",
              "      <td>NaN</td>\n",
              "      <td>NaN</td>\n",
              "      <td>NaN</td>\n",
              "      <td>NaN</td>\n",
              "      <td>NaN</td>\n",
              "      <td>NaN</td>\n",
              "      <td>NaN</td>\n",
              "      <td>NaN</td>\n",
              "      <td>NaN</td>\n",
              "      <td>NaN</td>\n",
              "      <td>NaN</td>\n",
              "      <td>NaN</td>\n",
              "      <td>NaN</td>\n",
              "      <td>NaN</td>\n",
              "      <td>NaN</td>\n",
              "      <td>NaN</td>\n",
              "      <td>NaN</td>\n",
              "      <td>NaN</td>\n",
              "      <td>NaN</td>\n",
              "      <td>NaN</td>\n",
              "      <td>NaN</td>\n",
              "      <td>NaN</td>\n",
              "      <td>NaN</td>\n",
              "      <td>NaN</td>\n",
              "      <td>NaN</td>\n",
              "    </tr>\n",
              "    <tr>\n",
              "      <th>...</th>\n",
              "      <td>...</td>\n",
              "      <td>...</td>\n",
              "      <td>...</td>\n",
              "      <td>...</td>\n",
              "      <td>...</td>\n",
              "      <td>...</td>\n",
              "      <td>...</td>\n",
              "      <td>...</td>\n",
              "      <td>...</td>\n",
              "      <td>...</td>\n",
              "      <td>...</td>\n",
              "      <td>...</td>\n",
              "      <td>...</td>\n",
              "      <td>...</td>\n",
              "      <td>...</td>\n",
              "      <td>...</td>\n",
              "      <td>...</td>\n",
              "      <td>...</td>\n",
              "      <td>...</td>\n",
              "      <td>...</td>\n",
              "      <td>...</td>\n",
              "      <td>...</td>\n",
              "      <td>...</td>\n",
              "      <td>...</td>\n",
              "      <td>...</td>\n",
              "      <td>...</td>\n",
              "      <td>...</td>\n",
              "      <td>...</td>\n",
              "      <td>...</td>\n",
              "      <td>...</td>\n",
              "      <td>...</td>\n",
              "      <td>...</td>\n",
              "      <td>...</td>\n",
              "      <td>...</td>\n",
              "      <td>...</td>\n",
              "      <td>...</td>\n",
              "      <td>...</td>\n",
              "      <td>...</td>\n",
              "      <td>...</td>\n",
              "      <td>...</td>\n",
              "      <td>...</td>\n",
              "      <td>...</td>\n",
              "      <td>...</td>\n",
              "      <td>...</td>\n",
              "      <td>...</td>\n",
              "      <td>...</td>\n",
              "      <td>...</td>\n",
              "      <td>...</td>\n",
              "      <td>...</td>\n",
              "      <td>...</td>\n",
              "      <td>...</td>\n",
              "      <td>...</td>\n",
              "    </tr>\n",
              "    <tr>\n",
              "      <th>3984</th>\n",
              "      <td>4</td>\n",
              "      <td>4.1</td>\n",
              "      <td>4.1.1</td>\n",
              "      <td>SE_TOT_PRFL</td>\n",
              "      <td>Proportion of children and young people achiev...</td>\n",
              "      <td>894</td>\n",
              "      <td>Zambia</td>\n",
              "      <td>2015</td>\n",
              "      <td>5.043495</td>\n",
              "      <td>2015</td>\n",
              "      <td>NaN</td>\n",
              "      <td>NaN</td>\n",
              "      <td>NaN</td>\n",
              "      <td>NaN</td>\n",
              "      <td>PISA D 2015</td>\n",
              "      <td>NaN</td>\n",
              "      <td>NaN</td>\n",
              "      <td>NaN</td>\n",
              "      <td>LOWSEC</td>\n",
              "      <td>NaN</td>\n",
              "      <td>C</td>\n",
              "      <td>NaN</td>\n",
              "      <td>G</td>\n",
              "      <td>BOTHSEX</td>\n",
              "      <td>SKILL_READ</td>\n",
              "      <td>PERCENT</td>\n",
              "      <td>NaN</td>\n",
              "      <td>NaN</td>\n",
              "      <td>NaN</td>\n",
              "      <td>NaN</td>\n",
              "      <td>NaN</td>\n",
              "      <td>NaN</td>\n",
              "      <td>NaN</td>\n",
              "      <td>NaN</td>\n",
              "      <td>NaN</td>\n",
              "      <td>NaN</td>\n",
              "      <td>NaN</td>\n",
              "      <td>NaN</td>\n",
              "      <td>NaN</td>\n",
              "      <td>NaN</td>\n",
              "      <td>NaN</td>\n",
              "      <td>NaN</td>\n",
              "      <td>NaN</td>\n",
              "      <td>NaN</td>\n",
              "      <td>NaN</td>\n",
              "      <td>NaN</td>\n",
              "      <td>NaN</td>\n",
              "      <td>NaN</td>\n",
              "      <td>NaN</td>\n",
              "      <td>NaN</td>\n",
              "      <td>NaN</td>\n",
              "      <td>NaN</td>\n",
              "    </tr>\n",
              "    <tr>\n",
              "      <th>3985</th>\n",
              "      <td>4</td>\n",
              "      <td>4.1</td>\n",
              "      <td>4.1.1</td>\n",
              "      <td>SE_TOT_PRFL</td>\n",
              "      <td>Proportion of children and young people achiev...</td>\n",
              "      <td>894</td>\n",
              "      <td>Zambia</td>\n",
              "      <td>2015</td>\n",
              "      <td>1.942508</td>\n",
              "      <td>2015</td>\n",
              "      <td>NaN</td>\n",
              "      <td>NaN</td>\n",
              "      <td>NaN</td>\n",
              "      <td>NaN</td>\n",
              "      <td>PISA D 2015</td>\n",
              "      <td>NaN</td>\n",
              "      <td>NaN</td>\n",
              "      <td>NaN</td>\n",
              "      <td>LOWSEC</td>\n",
              "      <td>NaN</td>\n",
              "      <td>C</td>\n",
              "      <td>NaN</td>\n",
              "      <td>G</td>\n",
              "      <td>MALE</td>\n",
              "      <td>SKILL_MATH</td>\n",
              "      <td>PERCENT</td>\n",
              "      <td>NaN</td>\n",
              "      <td>NaN</td>\n",
              "      <td>NaN</td>\n",
              "      <td>NaN</td>\n",
              "      <td>NaN</td>\n",
              "      <td>NaN</td>\n",
              "      <td>NaN</td>\n",
              "      <td>NaN</td>\n",
              "      <td>NaN</td>\n",
              "      <td>NaN</td>\n",
              "      <td>NaN</td>\n",
              "      <td>NaN</td>\n",
              "      <td>NaN</td>\n",
              "      <td>NaN</td>\n",
              "      <td>NaN</td>\n",
              "      <td>NaN</td>\n",
              "      <td>NaN</td>\n",
              "      <td>NaN</td>\n",
              "      <td>NaN</td>\n",
              "      <td>NaN</td>\n",
              "      <td>NaN</td>\n",
              "      <td>NaN</td>\n",
              "      <td>NaN</td>\n",
              "      <td>NaN</td>\n",
              "      <td>NaN</td>\n",
              "      <td>NaN</td>\n",
              "    </tr>\n",
              "    <tr>\n",
              "      <th>3986</th>\n",
              "      <td>4</td>\n",
              "      <td>4.1</td>\n",
              "      <td>4.1.1</td>\n",
              "      <td>SE_TOT_PRFL</td>\n",
              "      <td>Proportion of children and young people achiev...</td>\n",
              "      <td>894</td>\n",
              "      <td>Zambia</td>\n",
              "      <td>2015</td>\n",
              "      <td>2.634564</td>\n",
              "      <td>2015</td>\n",
              "      <td>NaN</td>\n",
              "      <td>NaN</td>\n",
              "      <td>NaN</td>\n",
              "      <td>NaN</td>\n",
              "      <td>PISA D 2015</td>\n",
              "      <td>NaN</td>\n",
              "      <td>NaN</td>\n",
              "      <td>NaN</td>\n",
              "      <td>LOWSEC</td>\n",
              "      <td>NaN</td>\n",
              "      <td>C</td>\n",
              "      <td>NaN</td>\n",
              "      <td>G</td>\n",
              "      <td>FEMALE</td>\n",
              "      <td>SKILL_MATH</td>\n",
              "      <td>PERCENT</td>\n",
              "      <td>NaN</td>\n",
              "      <td>NaN</td>\n",
              "      <td>NaN</td>\n",
              "      <td>NaN</td>\n",
              "      <td>NaN</td>\n",
              "      <td>NaN</td>\n",
              "      <td>NaN</td>\n",
              "      <td>NaN</td>\n",
              "      <td>NaN</td>\n",
              "      <td>NaN</td>\n",
              "      <td>NaN</td>\n",
              "      <td>NaN</td>\n",
              "      <td>NaN</td>\n",
              "      <td>NaN</td>\n",
              "      <td>NaN</td>\n",
              "      <td>NaN</td>\n",
              "      <td>NaN</td>\n",
              "      <td>NaN</td>\n",
              "      <td>NaN</td>\n",
              "      <td>NaN</td>\n",
              "      <td>NaN</td>\n",
              "      <td>NaN</td>\n",
              "      <td>NaN</td>\n",
              "      <td>NaN</td>\n",
              "      <td>NaN</td>\n",
              "      <td>NaN</td>\n",
              "    </tr>\n",
              "    <tr>\n",
              "      <th>3987</th>\n",
              "      <td>4</td>\n",
              "      <td>4.1</td>\n",
              "      <td>4.1.1</td>\n",
              "      <td>SE_TOT_PRFL</td>\n",
              "      <td>Proportion of children and young people achiev...</td>\n",
              "      <td>894</td>\n",
              "      <td>Zambia</td>\n",
              "      <td>2015</td>\n",
              "      <td>2.298457</td>\n",
              "      <td>2015</td>\n",
              "      <td>NaN</td>\n",
              "      <td>NaN</td>\n",
              "      <td>NaN</td>\n",
              "      <td>NaN</td>\n",
              "      <td>PISA D 2015</td>\n",
              "      <td>NaN</td>\n",
              "      <td>NaN</td>\n",
              "      <td>NaN</td>\n",
              "      <td>LOWSEC</td>\n",
              "      <td>NaN</td>\n",
              "      <td>C</td>\n",
              "      <td>NaN</td>\n",
              "      <td>G</td>\n",
              "      <td>BOTHSEX</td>\n",
              "      <td>SKILL_MATH</td>\n",
              "      <td>PERCENT</td>\n",
              "      <td>NaN</td>\n",
              "      <td>NaN</td>\n",
              "      <td>NaN</td>\n",
              "      <td>NaN</td>\n",
              "      <td>NaN</td>\n",
              "      <td>NaN</td>\n",
              "      <td>NaN</td>\n",
              "      <td>NaN</td>\n",
              "      <td>NaN</td>\n",
              "      <td>NaN</td>\n",
              "      <td>NaN</td>\n",
              "      <td>NaN</td>\n",
              "      <td>NaN</td>\n",
              "      <td>NaN</td>\n",
              "      <td>NaN</td>\n",
              "      <td>NaN</td>\n",
              "      <td>NaN</td>\n",
              "      <td>NaN</td>\n",
              "      <td>NaN</td>\n",
              "      <td>NaN</td>\n",
              "      <td>NaN</td>\n",
              "      <td>NaN</td>\n",
              "      <td>NaN</td>\n",
              "      <td>NaN</td>\n",
              "      <td>NaN</td>\n",
              "      <td>NaN</td>\n",
              "    </tr>\n",
              "    <tr>\n",
              "      <th>3988</th>\n",
              "      <td>4</td>\n",
              "      <td>4.1</td>\n",
              "      <td>4.1.1</td>\n",
              "      <td>SE_TOT_PRFL</td>\n",
              "      <td>Proportion of children and young people achiev...</td>\n",
              "      <td>894</td>\n",
              "      <td>Zambia</td>\n",
              "      <td>2015</td>\n",
              "      <td>3.521387</td>\n",
              "      <td>2015</td>\n",
              "      <td>NaN</td>\n",
              "      <td>NaN</td>\n",
              "      <td>NaN</td>\n",
              "      <td>NaN</td>\n",
              "      <td>PISA D 2015</td>\n",
              "      <td>NaN</td>\n",
              "      <td>NaN</td>\n",
              "      <td>NaN</td>\n",
              "      <td>LOWSEC</td>\n",
              "      <td>NaN</td>\n",
              "      <td>C</td>\n",
              "      <td>NaN</td>\n",
              "      <td>G</td>\n",
              "      <td>MALE</td>\n",
              "      <td>SKILL_READ</td>\n",
              "      <td>PERCENT</td>\n",
              "      <td>NaN</td>\n",
              "      <td>NaN</td>\n",
              "      <td>NaN</td>\n",
              "      <td>NaN</td>\n",
              "      <td>NaN</td>\n",
              "      <td>NaN</td>\n",
              "      <td>NaN</td>\n",
              "      <td>NaN</td>\n",
              "      <td>NaN</td>\n",
              "      <td>NaN</td>\n",
              "      <td>NaN</td>\n",
              "      <td>NaN</td>\n",
              "      <td>NaN</td>\n",
              "      <td>NaN</td>\n",
              "      <td>NaN</td>\n",
              "      <td>NaN</td>\n",
              "      <td>NaN</td>\n",
              "      <td>NaN</td>\n",
              "      <td>NaN</td>\n",
              "      <td>NaN</td>\n",
              "      <td>NaN</td>\n",
              "      <td>NaN</td>\n",
              "      <td>NaN</td>\n",
              "      <td>NaN</td>\n",
              "      <td>NaN</td>\n",
              "      <td>NaN</td>\n",
              "    </tr>\n",
              "  </tbody>\n",
              "</table>\n",
              "<p>3989 rows × 52 columns</p>\n",
              "</div>"
            ],
            "text/plain": [
              "      Goal Target Indicator  ... Unnamed: 49 Unnamed: 50  Unnamed: 51\n",
              "0        4    4.1     4.1.1  ...         NaN         NaN          NaN\n",
              "1        4    4.1     4.1.1  ...         NaN         NaN          NaN\n",
              "2        4    4.1     4.1.1  ...         NaN         NaN          NaN\n",
              "3        4    4.1     4.1.1  ...         NaN         NaN          NaN\n",
              "4        4    4.1     4.1.1  ...         NaN         NaN          NaN\n",
              "...    ...    ...       ...  ...         ...         ...          ...\n",
              "3984     4    4.1     4.1.1  ...         NaN         NaN          NaN\n",
              "3985     4    4.1     4.1.1  ...         NaN         NaN          NaN\n",
              "3986     4    4.1     4.1.1  ...         NaN         NaN          NaN\n",
              "3987     4    4.1     4.1.1  ...         NaN         NaN          NaN\n",
              "3988     4    4.1     4.1.1  ...         NaN         NaN          NaN\n",
              "\n",
              "[3989 rows x 52 columns]"
            ]
          },
          "metadata": {
            "tags": []
          },
          "execution_count": 177
        }
      ]
    },
    {
      "cell_type": "code",
      "metadata": {
        "colab": {
          "base_uri": "https://localhost:8080/"
        },
        "id": "aGUvXOyunlfS",
        "outputId": "2ce76180-334b-4274-e9bd-903f3aacc90c"
      },
      "source": [
        "df_SeriesDescription.columns"
      ],
      "execution_count": null,
      "outputs": [
        {
          "output_type": "execute_result",
          "data": {
            "text/plain": [
              "Index(['Goal', 'Target', 'Indicator', 'SeriesCode', 'SeriesDescription',\n",
              "       'GeoAreaCode', 'GeoAreaName', 'TimePeriod', 'Value', 'Time_Detail',\n",
              "       'TimeCoverage', 'UpperBound', 'LowerBound', 'BasePeriod', 'Source',\n",
              "       'GeoInfoUrl', 'FootNote', 'Age', 'Education level', 'Location',\n",
              "       'Nature', 'Quantile', 'Reporting Type', 'Sex', 'Type of skill', 'Units',\n",
              "       'Unnamed: 26', 'Unnamed: 27', 'Unnamed: 28', 'Unnamed: 29',\n",
              "       'Unnamed: 30', 'Unnamed: 31', 'Unnamed: 32', 'Unnamed: 33',\n",
              "       'Unnamed: 34', 'Unnamed: 35', 'Unnamed: 36', 'Unnamed: 37',\n",
              "       'Unnamed: 38', 'Unnamed: 39', 'Unnamed: 40', 'Unnamed: 41',\n",
              "       'Unnamed: 42', 'Unnamed: 43', 'Unnamed: 44', 'Unnamed: 45',\n",
              "       'Unnamed: 46', 'Unnamed: 47', 'Unnamed: 48', 'Unnamed: 49',\n",
              "       'Unnamed: 50', 'Unnamed: 51'],\n",
              "      dtype='object')"
            ]
          },
          "metadata": {
            "tags": []
          },
          "execution_count": 178
        }
      ]
    },
    {
      "cell_type": "markdown",
      "metadata": {
        "id": "xpatIxvv9ne7"
      },
      "source": [
        "**Get the details of the missing and unique values to find the noisy data and duplicate data**"
      ]
    },
    {
      "cell_type": "code",
      "metadata": {
        "id": "6ts1Grf7PI-o",
        "colab": {
          "base_uri": "https://localhost:8080/"
        },
        "outputId": "c14a2a7e-c368-4637-daf7-35b8222f8e5e"
      },
      "source": [
        "for column in df_SeriesDescription.columns:\n",
        "    print(\"Column: \", column)\n",
        "    print(\"Missing values: \", df[column].isnull().sum())\n",
        "    print(\"Unique values: \", df[column].unique())"
      ],
      "execution_count": null,
      "outputs": [
        {
          "output_type": "stream",
          "text": [
            "Column:  Goal\n",
            "Missing values:  0\n",
            "Unique values:  [4]\n",
            "Column:  Target\n",
            "Missing values:  0\n",
            "Unique values:  [4.1 4.2 4.3 4.4 4.5 '4.5' '4.6' '4.a' '4.b' '4.c']\n",
            "Column:  Indicator\n",
            "Missing values:  0\n",
            "Unique values:  ['4.1.1' '4.1.2' '4.2.1' '4.2.2' '4.3.1' '4.4.1' '4.5.1' '4.6.1' '4.a.1'\n",
            " '4.b.1' '4.c.1']\n",
            "Column:  SeriesCode\n",
            "Missing values:  0\n",
            "Unique values:  ['SE_TOT_PRFL' 'SE_TOT_CPLR' 'SE_DEV_ONTRK' 'SE_PRE_PARTN'\n",
            " 'SE_ADT_EDUCTRN' 'SE_ADT_ACTS' 'SE_AGP_CPRA' 'SE_ALP_CPLR' 'SE_AWP_CPRA'\n",
            " 'SE_GPI_ICTS' 'SE_GPI_PART' 'SE_GPI_PTNPRE' 'SE_GPI_TCAQ' 'SE_IMP_FPOF'\n",
            " 'SE_LGP_ACHI' 'SE_NAP_ACHI' 'SE_TOT_GPI' 'SE_TOT_RUPI' 'SE_TOT_SESPI'\n",
            " 'SE_ADT_FUNS' 'SE_ACC_HNDWSH' 'SE_ACS_CMPTR' 'SE_ACS_ELECT' 'SE_ACS_H2O'\n",
            " 'SE_ACS_INTNT' 'SE_ACS_SANIT' 'SE_INF_DSBL' 'DC_TOF_SCHIPSL'\n",
            " 'SE_TRA_GRDL']\n",
            "Column:  SeriesDescription\n",
            "Missing values:  0\n",
            "Unique values:  ['Proportion of children and young people achieving a minimum proficiency level in reading and mathematics (%)'\n",
            " 'Completion rate, by sex, location, wealth quintile and education level (%)'\n",
            " 'Proportion of children aged 36−59 months who are developmentally on track in at least three of the following domains: literacy-numeracy, physical development, social-emotional development, and learning (% of children aged 36-59 months)'\n",
            " 'Participation rate in organized learning (one year before the official primary entry age), by sex (%)'\n",
            " 'Participation rate in formal and non-formal education and training, by sex (%)'\n",
            " 'Proportion of youth and adults with information and communications technology (ICT) skills, by sex and type of skill (%)'\n",
            " 'Adjusted gender parity index for completion rate, by sex, location, wealth quintile and education level'\n",
            " 'Adjusted location parity index for completion rate, by sex, location, wealth quintile and education level'\n",
            " 'Adjusted wealth parity index for completion rate, by sex, location, wealth quintile and education level'\n",
            " 'Gender parity index for youth/adults with information and communications technology (ICT) skills, by type of skill (ratio)'\n",
            " 'Gender parity index for participation rate in formal and non-formal education and training (ratio)'\n",
            " 'Gender parity index for participation rate in organized learning (one year before the official primary entry age), (ratio)'\n",
            " 'Gender parity index of trained teachers, by education level (ratio)'\n",
            " 'Immigration status parity index for achieving at least a fixed level of proficiency in functional skills, by numeracy/literacy skills (ratio)'\n",
            " 'Language test parity index for achievement (ratio)'\n",
            " 'Native parity index for achievement (ratio)'\n",
            " 'Gender parity index for achievement (ratio)'\n",
            " 'Rural to urban parity index for achievement (ratio)'\n",
            " 'Low to high socio-economic parity status index for achievement (ratio)'\n",
            " 'Proportion of population achieving at least a fixed level of proficiency in functional skills, by sex, age and type of skill (%)'\n",
            " 'Schools with basic handwashing facilities, by education level (%)'\n",
            " 'Schools with access to\\xa0computers for pedagogical purposes, by education level (%)'\n",
            " 'Schools with access to\\xa0electricity, by education level (%)'\n",
            " 'Schools with access to basic drinking water, by education level (%)'\n",
            " 'Schools with access to the internet for pedagogical purposes, by education level (%)'\n",
            " 'Schools with access to\\xa0access to single-sex basic sanitation, by education level (%)'\n",
            " 'Proportion of schools with access to adapted infrastructure and materials for students with disabilities, by education level (%)'\n",
            " 'Total official flows for scholarships, by recipient countries (millions of constant 2018 United States dollars)'\n",
            " 'Proportion of teachers who have received at least the minimum organized teacher training (e.g. pedagogical training) pre-service or in-service required for teaching at the relevant level in a given country, by sex and education level (%)']\n",
            "Column:  GeoAreaCode\n",
            "Missing values:  0\n",
            "Unique values:  [  4   8  12  31  32  36  40  48  50  51  56  64  70  72  76  84  96 100\n",
            " 108 112 116 120 124 148 152 156 170 174 178 180 188 191 192 196 203 204\n",
            " 208 214 218 222 233 246 250 266 268 270 275 276 288 300 320 340 344 348\n",
            " 352 356 360 364 372 376 380 384 392 398 400 404 408 410 414 417 418 422\n",
            " 426 428 438 440 442 446 450 454 458 470 478 480 484 496 498 499 504 508\n",
            " 512 516 528 554 558 562 578 586 591 600 604 608 616 620 634 642 643 682\n",
            " 686 688 690 694 702 703 704 705 710 716 724 740 748 752 756 760 764 768\n",
            " 780 784 788 792 800 804 807 818 826 834 840 854 858 887 894  24  52  68\n",
            " 104 140 144 226 231 242 262 324 328 332 368 388 430 462 466 524 548 566\n",
            " 624 626 630 646 662 678 706 728 729 762 795 860 862   1  35 145 202 296\n",
            " 584 722 776 882   9  15  21  28  34  44  53  60  62  90  92 132 143 150\n",
            " 184 199 212 232 292 308 336 419 432 500 513 520 533 534 543 570 583 585\n",
            " 598 659 660 670 674 747 753 772 798  20 412 531 136 492 796  30   2   5\n",
            "  11  13  14  17  18  29  39  54  57  61 127 135 142 151 223 434 514 515\n",
            " 876 921]\n",
            "Column:  GeoAreaName\n",
            "Missing values:  0\n",
            "Unique values:  ['Afghanistan' 'Albania' 'Algeria' 'Azerbaijan' 'Argentina' 'Australia'\n",
            " 'Austria' 'Bahrain' 'Bangladesh' 'Armenia' 'Belgium' 'Bhutan'\n",
            " 'Bosnia and Herzegovina' 'Botswana' 'Brazil' 'Belize' 'Brunei Darussalam'\n",
            " 'Bulgaria' 'Burundi' 'Belarus' 'Cambodia' 'Cameroon' 'Canada' 'Chad'\n",
            " 'Chile' 'China' 'Colombia' 'Comoros' 'Congo'\n",
            " 'Democratic Republic of the Congo' 'Costa Rica' 'Croatia' 'Cuba' 'Cyprus'\n",
            " 'Czechia' 'Benin' 'Denmark' 'Dominican Republic' 'Ecuador' 'El Salvador'\n",
            " 'Estonia' 'Finland' 'France' 'Gabon' 'Georgia' 'Gambia'\n",
            " 'State of Palestine' 'Germany' 'Ghana' 'Greece' 'Guatemala' 'Honduras'\n",
            " 'China, Hong Kong Special Administrative Region' 'Hungary' 'Iceland'\n",
            " 'India' 'Indonesia' 'Iran (Islamic Republic of)' 'Ireland' 'Israel'\n",
            " 'Italy' \"Côte d'Ivoire\" 'Japan' 'Kazakhstan' 'Jordan' 'Kenya'\n",
            " \"Democratic People's Republic of Korea\" 'Republic of Korea' 'Kuwait'\n",
            " 'Kyrgyzstan' \"Lao People's Democratic Republic\" 'Lebanon' 'Lesotho'\n",
            " 'Latvia' 'Liechtenstein' 'Lithuania' 'Luxembourg'\n",
            " 'China, Macao Special Administrative Region' 'Madagascar' 'Malawi'\n",
            " 'Malaysia' 'Malta' 'Mauritania' 'Mauritius' 'Mexico' 'Mongolia'\n",
            " 'Republic of Moldova' 'Montenegro' 'Morocco' 'Mozambique' 'Oman'\n",
            " 'Namibia' 'Netherlands' 'New Zealand' 'Nicaragua' 'Niger' 'Norway'\n",
            " 'Pakistan' 'Panama' 'Paraguay' 'Peru' 'Philippines' 'Poland' 'Portugal'\n",
            " 'Qatar' 'Romania' 'Russian Federation' 'Saudi Arabia' 'Senegal' 'Serbia'\n",
            " 'Seychelles' 'Sierra Leone' 'Singapore' 'Slovakia' 'Viet Nam' 'Slovenia'\n",
            " 'South Africa' 'Zimbabwe' 'Spain' 'Suriname' 'Eswatini' 'Sweden'\n",
            " 'Switzerland' 'Syrian Arab Republic' 'Thailand' 'Togo'\n",
            " 'Trinidad and Tobago' 'United Arab Emirates' 'Tunisia' 'Turkey' 'Uganda'\n",
            " 'Ukraine' 'North Macedonia' 'Egypt'\n",
            " 'United Kingdom of Great Britain and Northern Ireland'\n",
            " 'United Republic of Tanzania' 'United States of America' 'Burkina Faso'\n",
            " 'Uruguay' 'Yemen' 'Zambia' 'Angola' 'Barbados'\n",
            " 'Bolivia (Plurinational State of)' 'Myanmar' 'Central African Republic'\n",
            " 'Sri Lanka' 'Equatorial Guinea' 'Ethiopia' 'Fiji' 'Djibouti' 'Guinea'\n",
            " 'Guyana' 'Haiti' 'Iraq' 'Jamaica' 'Liberia' 'Maldives' 'Mali' 'Nepal'\n",
            " 'Vanuatu' 'Nigeria' 'Guinea-Bissau' 'Timor-Leste' 'Puerto Rico' 'Rwanda'\n",
            " 'Saint Lucia' 'Sao Tome and Principe' 'Somalia' 'South Sudan' 'Sudan'\n",
            " 'Tajikistan' 'Turkmenistan' 'Uzbekistan'\n",
            " 'Venezuela (Bolivarian Republic of)' 'World' 'South-Eastern Asia'\n",
            " 'Western Asia' 'Sub-Saharan Africa' 'Kiribati' 'Marshall Islands'\n",
            " 'Small island developing States (SIDS)' 'Tonga' 'Samoa' 'Oceania'\n",
            " 'Northern Africa' 'Northern America' 'Antigua and Barbuda'\n",
            " 'Southern Asia' 'Bahamas' 'Australia and New Zealand' 'Bermuda'\n",
            " 'Central and Southern Asia' 'Solomon Islands' 'British Virgin Islands'\n",
            " 'Cabo Verde' 'Central Asia' 'Europe' 'Cook Islands'\n",
            " 'Least Developed Countries (LDCs)' 'Dominica' 'Eritrea' 'Gibraltar'\n",
            " 'Grenada' 'Holy See' 'Latin America and the Caribbean'\n",
            " 'Landlocked developing countries (LLDCs)' 'Montserrat'\n",
            " 'Europe and Northern America' 'Nauru' 'Aruba' 'Sint Maarten (Dutch part)'\n",
            " 'Oceania (exc. Australia and New Zealand)' 'Niue'\n",
            " 'Micronesia (Federated States of)' 'Palau' 'Papua New Guinea'\n",
            " 'Saint Kitts and Nevis' 'Anguilla' 'Saint Vincent and the Grenadines'\n",
            " 'San Marino' 'Northern Africa and Western Asia'\n",
            " 'Eastern and South-Eastern Asia' 'Tokelau' 'Tuvalu' 'Andorra' 'Kosovo'\n",
            " 'Curaçao' 'Cayman Islands' 'Monaco' 'Turks and Caicos Islands'\n",
            " 'Eastern Asia' 'Africa' 'South America' 'Western Africa'\n",
            " 'Central America' 'Eastern Africa' 'Middle Africa' 'Southern Africa'\n",
            " 'Caribbean' 'Southern Europe' 'Melanesia' 'Micronesia' 'Polynesia'\n",
            " 'Southern Asia (excluding India)' 'Caucasus and Central Asia' 'Asia'\n",
            " 'Eastern Europe' 'Eastern Asia (excluding Japan and China)' 'Libya'\n",
            " 'Developed regions (Europe, Cyprus, Israel, Northern America, Japan, Australia & New Zealand)'\n",
            " 'Developing regions' 'Wallis and Futuna Islands' 'ODA residual']\n",
            "Column:  TimePeriod\n",
            "Missing values:  0\n",
            "Unique values:  [2013 2016 2000 2009 2012 2015 2018 2007 2006 2011 2003 2017 2001 2014\n",
            " 2008 2010 2004 2019 2005 2002 2020]\n",
            "Column:  Value\n",
            "Missing values:  12192\n",
            "Unique values:  [11.      13.      21.5     ... 95.54508 98.7503  97.52328]\n",
            "Column:  Time_Detail\n",
            "Missing values:  0\n",
            "Unique values:  [2013 2016 2000 2009 2012 2015 2018 2007 2006 2011 2003 2017 2001 2014\n",
            " 2008 2010 2004 2019 2005 2002 '2016' '2010' '2012' '2011' '2013' '2014'\n",
            " '2000' '2002' '2005' '2015' '2009' '2017' '2004' '2008' '2006' '2001'\n",
            " '2007' '2003' '2018' '2012-2020' '2018-2019' '2011-2012' '2019'\n",
            " '2016-2017' '2014-2015' '2017-2018' '2019-2020' '2013-2014' '2017-18'\n",
            " '2018-19']\n",
            "Column:  TimeCoverage\n",
            "Missing values:  191762\n",
            "Unique values:  [nan]\n",
            "Column:  UpperBound\n",
            "Missing values:  191762\n",
            "Unique values:  [nan]\n",
            "Column:  LowerBound\n",
            "Missing values:  191762\n",
            "Unique values:  [nan]\n",
            "Column:  BasePeriod\n",
            "Missing values:  189486\n",
            "Unique values:  [  nan 2018.]\n",
            "Column:  Source\n",
            "Missing values:  0\n",
            "Unique values:  ['National Learning Assessment (NLA): Monitoring Trends in Educational Growth (MTEG) assessment; Grade 6; Minimum proficiency level: 9'\n",
            " 'National Learning Assessment (NLA): Monitoring Trends in Educational Growth (MTEG) assessment; Grade 6; Minimum proficiency level: 10'\n",
            " 'National Learning Assessment (NLA): Monitoring Trends in Educational Growth (MTEG) assessment; Grade 3; Minimum proficiency level: 8'\n",
            " 'National Learning Assessment (NLA): Monitoring Trends in Educational Growth (MTEG) assessment; Grade 3; Minimum proficiency level: 7'\n",
            " 'PISA 2000' 'PISA 2009' 'PISA 2012' 'PISA 2015' 'PISA 2018' 'TIMSS 2007'\n",
            " 'PISA 2006' 'TIMSS 2011' 'PIRLS 2011' 'PIRLS 2016' 'LLECE 2006'\n",
            " 'LLECE 2013' 'PISA 2003' 'TIMSS 2003' 'TIMSS 2015' 'PIRLS 2006'\n",
            " 'National Learning Assessment (NLA): Learning Assessment of Secondary Institutions (LASI); Grade 8; Minimum proficiency level: Band 4'\n",
            " 'National Learning Assessment (NLA): Learning Assessment of Secondary Institutions (LASI); Grade 8; Minimum proficiency level: Band 4; Reading'\n",
            " 'National Learning Assessment (NLA): Learning Assessment of Secondary Institutions (LASI); Grade 8; Minimum proficiency level: Band 5; Reading'\n",
            " 'National Learning Assessment (NLA): National Student Assessment (NSA); Grade 5; Minimum proficiency level: Proficient; Domain: Language'\n",
            " 'National Learning Assessment (NLA): National Student Assessment (NSA); Grade 3; Minimum proficiency level: Proficient'\n",
            " 'National Learning Assessment (NLA): Learning Assessment of Secondary Institutions (LASI); Grade 8; Minimum proficiency level: Band 5; Domain: Reading (Dzongkha)'\n",
            " 'National Learning Assessment (NLA): National Student Assessment (NSA); Grade 3; Minimum proficiency level: Proficient; Domain: Language'\n",
            " 'National Learning Assessment (NLA): National Student Assessment (NSA); Grade 5; Minimum proficiency level: Proficient'\n",
            " 'National Learning Assessment (NLA): National Education Assessment (NEA) in Bhutan; Grade 10 (-1); Minimum proficiency level: Level 3'\n",
            " 'PIRLS 2001' 'PASEC 2014'\n",
            " 'National Learning Assessment (NLA): National Assessment; Grade 6; Minimum proficiency level: Level 3: Proficient'\n",
            " 'PISA D 2015'\n",
            " 'National Learning Assessment (NLA): Chinese National Compulsory Education Quality Assessment; Grade 4 (+1); Minimum proficiency level: Good+Moderate'\n",
            " 'National Learning Assessment (NLA): Chinese National Compulsory Education Quality Assessment; Grade 8 (-1); Minimum proficiency level: Moderate'\n",
            " 'PASEC 2008' 'PASEC 2010' 'PASEC 2006'\n",
            " 'Multiple Indicator Cluster Survey (MICS6); Children attending grade 2/3; Minimum proficiency level: Foundational reading skills'\n",
            " 'National Learning Assessment (NLA): National Achievement Survey; Grade 5; Minimum proficiency level: Proficient'\n",
            " 'National Learning Assessment (NLA): National Achievement Survey; Grade 3; Minimum proficiency level: Proficient'\n",
            " 'SACMEQ 2006'\n",
            " 'National Learning Assessment (NLA): National Assessment Systems for Monitoring Learner Achievement (NASMLA); Grade 3; Minimum proficiency level: Level 3; Reading'\n",
            " 'National Learning Assessment (NLA): National Assessment Systems for Monitoring Learner Achievement (NASMLA); Grade 3; Minimum proficiency level: Level 3'\n",
            " 'National Learning Assessment (NLA): National Sample-Based Assessment (NSBA); Grade 4; Minimum proficiency level: Basic level; Domain: Language'\n",
            " 'National Learning Assessment (NLA): National Sample-Based Assessment (NSBA); Grade 4; Minimum proficiency level: Basic level'\n",
            " 'National Learning Assessment (NLA): National assessments of student learning (ASLO) ; Grade 3; Minimum proficiency level: Level 5'\n",
            " 'PASEC 2004' 'SACMEQ 2013'\n",
            " 'National Learning Assessment (NLA): National Assessment; Grade 4 (+1); Minimum proficiency level: Proficient '\n",
            " 'National Learning Assessment (NLA): National Assessment; Grade 5; Minimum proficiency level: Level 4'\n",
            " 'National Learning Assessment (NLA): National Assessment of Progress in Education (NAPE); Grade 3; Minimum proficiency level: Advanced Level'\n",
            " 'National Learning Assessment (NLA): National Assessment of Progress in Education (NAPE); Grade 3; Minimum proficiency level: Advance'\n",
            " 'UNESCO Institute for Statistics. Data extracted on 19 August 2020.'\n",
            " 'Demographic and Health Surveys (DHS), Multiple Indicator Cluster Surveys (MICS) and other national surveys '\n",
            " 'MICS' 'DHS ' 'ENS/MICS' 'RISKESDAS' 'ENSANUT ' 'ICHNS' 'Continuous DHS'\n",
            " 'MICS Factsheets' 'UIS'\n",
            " 'Labour Force Survey. Reference period for participation in education and training: unknown, likely 1 month prior to the interview.'\n",
            " 'Adult Education Survey (AES).'\n",
            " 'Core Welfare Indicators Questionnaire. Reference period for participation in education and training: unknown, likely 1 month prior to the interview.'\n",
            " 'Permanent Household Survey (Urban). Reference period for participation in education and training: unknown, likely 1 month prior to the interview.'\n",
            " 'Programme for the International Assessment of Adult Competencies (PIAAC).'\n",
            " 'Household Survey. Reference period for participation in education and training: unknown, likely 1 month prior to the interview.'\n",
            " 'Botswana Core Welfare Indicators (Poverty) Survey. Reference period for participation in education and training: unknown, likely 1 month prior to the interview.'\n",
            " 'Household Income and Expenditure Survey. Reference period for participation in education and training: unknown, likely 1 month prior to the interview.'\n",
            " 'Living standards survey. Reference period for participation in education and training: unknown, likely 1 month prior to the interview.'\n",
            " 'Household Socio-Economic Survey. Reference period for participation in education and training: unknown, likely 1 month prior to the interview.'\n",
            " 'Household survey of Cameroon. Reference period for participation in education and training: unknown, likely 1 month prior to the interview.'\n",
            " 'Sri Lanka Labour Force Survey. Reference period for participation in education and training: unknown, likely 1 month prior to the interview.'\n",
            " \"Survey 1-2-3, Employment, informal sector and household's living conditions. Reference period for participation in education and training: unknown, likely 1 month prior to the interview.\"\n",
            " 'National Labour Force Survey. Reference period for participation in education and training: unknown, likely 1 month prior to the interview.'\n",
            " 'Continuous National Labour Force Survey. Reference period for participation in education and training: unknown, likely 1 month prior to the interview.'\n",
            " 'National Survey on Employment, Unemployment and Underemployment. Reference period for participation in education and training: unknown, likely 1 month prior to the interview.'\n",
            " 'Participation in education and training of adults population aged 16-65. Reference period for the participation in education and training: the twelve months prior to the interview.;DSTAT:Programme for the International Assessment of Adult Competencies (PIAAC).'\n",
            " 'Multi-purpose household survey. Reference period for participation in education and training: unknown, likely 1 month prior to the interview.'\n",
            " 'National Labor Force Survey. Reference period for participation in education and training: unknown, likely 1 month prior to the interview.'\n",
            " 'Employment, Unemployment Survey. Reference period for participation in education and training: unknown, likely 1 month prior to the interview.'\n",
            " 'Adult Education Survey (AES).;DSTAT:Participation in education and training (formal, non-formal and informal learning) of adults population aged 25-64. Reference period for the participation in education and training: the twelve months prior to the interview.'\n",
            " 'Labour force survey. Reference period for participation in education and training: last 4 weeks prior to the interview.'\n",
            " 'Palestinian labour force survey. Reference period for participation in education and training: unknown, likely 1 month prior to the interview.'\n",
            " 'GHAGHA - HIES - Living. Reference period for participation in education and training: unknown, likely 12 months for attendance in formal education, and last 6 weeks for attendance in non-formal education/training.'\n",
            " 'Labour force survey. Reference period for participation in education and training: last 12 months for attendance in formal education, and last 6 weeks for attendance in non-formal education/training.'\n",
            " 'Living Standards Survey. Reference period for participation in education and training: unknown, likely 12 months for attendance in formal education, and last 6 weeks for attendance in non-formal education/training.'\n",
            " 'Monthly Employment and Income Survey. Reference period for participation in education and training: unknown, likely last 6 months prior to the interview.'\n",
            " 'Monthly Employment and Income Survey. Reference period for participation in education and training: last 6 months prior to the interview.'\n",
            " 'Continous Multi-Purpose Household Survey. Reference period for participation in education and training: unknown, likely 1 month prior to the interview.'\n",
            " 'National survey on the employment situation. Reference period for participation in education and training: unknown, likely 1 month prior to the interview.'\n",
            " 'Integrated Household Survey. Reference period for participation in education and training: unknown, likely 1 month prior to the interview.'\n",
            " 'Household income and Expenditure Survey. Reference period for participation in education and training: unknown, likely 12 months prior to the interview.'\n",
            " 'Continous Household Employment Survey. Reference period for participation in education and training: unknown, likely 1 month prior to the interview.'\n",
            " 'National Reference Survey on Employment and Informal Sector. Reference period for participation in education and training: unknown, likely 1 month prior to the interview.'\n",
            " 'Continuous Multi-Purpose Household Survey. Reference period for participation in education and training: unknown, likely 1 month prior to the interview.'\n",
            " 'Nepal Labour Force Survey. Reference period for participation in education and training: unknown, likely 1 month prior to the interview.'\n",
            " 'National Population and Housing Census. Reference period for participation in education and training: unknown, likely 1 month prior to the interview.'\n",
            " 'Continous Household Survey. Reference period for participation in education and training: unknown, likely 1 month prior to the interview.'\n",
            " 'National Household Survey on Measuring Living Conditions. Reference period for participation in education and training: unknown, likely 1 month prior to the interview.'\n",
            " 'Population census. Reference period for participation in education and training: unknown, likely 1 month prior to the interview.'\n",
            " 'Labour Market Survey. Reference period for participation in education and training: unknown, likely 1 month prior to the interview.'\n",
            " 'Continuous Employment Survey (Urban). Reference period for participation in education and training: unknown, likely 1 month prior to the interview.'\n",
            " 'National Household Survey. Reference period for participation in education and training: unknown, likely 1 month prior to the interview.'\n",
            " 'National Employment Survey. Reference period for participation in education and training: unknown, likely 1 month prior to the interview.'\n",
            " 'LFS - Labour force. Reference period for participation in education and training: unknown, likely 1 month prior to the interview.'\n",
            " 'Quarterly Labour Force Survey. Reference period for participation in education and training: unknown, likely 1 month prior to the interview.'\n",
            " 'LFS - Household. Reference period for participation in education and training: unknown, likely 1 month prior to the interview.'\n",
            " 'National Population and Employment Survey. Reference period for participation in education and training: unknown, likely 1 month prior to the interview.'\n",
            " 'Labour force sample survey. Reference period for participation in education and training: unknown, likely 1 month prior to the interview.'\n",
            " 'LFS - Continous Household. Reference period for participation in education and training: unknown, likely 1 month prior to the interview.'\n",
            " 'LFS - Household Sample. Reference period for participation in education and training: unknown, likely 1 month prior to the interview.'\n",
            " 'INSTAT (Institute of Statistics)' 'Institute of Statistics'\n",
            " 'Ministry of Post, Telecommunications, Technologies and Digital'\n",
            " \"Servei d'studis - Ministeri de Finances\"\n",
            " 'State Statistical Committee of the Republic of Azerbaijan'\n",
            " 'State Statistical Committee' 'Eurostat' 'Statistik Austria'\n",
            " 'Statistics Austria'\n",
            " 'Telecommunications Regulatory Authority (TRA) Bahrain'\n",
            " 'Information and E-Government Authority'\n",
            " 'Telecommunications Regulatory Authority (TRA)'\n",
            " 'Telecommunications Regulatory Authority (TRA)\\n'\n",
            " 'Bangladesh Bureau of Statistics(BBS)' 'MICS 2019'\n",
            " 'Direction Générale Statistique - Statistics Belgium'\n",
            " 'Algemene Directie Statistiek - Statistics Belgium\\nDirection Générale Statistique - Statistics Belgium'\n",
            " 'Statbel (Algemene Directie Statistiek - Statistics Belgium)\\nStatbel (Direction générale Statistique - Statistics Belgium)'\n",
            " 'Statistics Belgium (Statbel)'\n",
            " 'Agency for Statistics of Bosnia and Herzegovina'\n",
            " 'Agency for statistics of Bosnia and Herzegovina' 'Statistics Botswana'\n",
            " 'NIC.br' 'Brazilian Internet Steering Committee' 'Cetic.br'\n",
            " 'Brazilian Institute of Geography and Statistics'\n",
            " 'Authority for Info-communications Technology Industry of Brunei Darussalam'\n",
            " 'Authority for Info-communications Technology Industry of Brunei Darussalam (AITI)'\n",
            " 'National Statistical Institute'\n",
            " \"Institut de Statistiques et d'tudes Economiques\"\n",
            " 'National Statistical Committee of the Republic of Belarus (Belstat)'\n",
            " 'Национальный статистический комитет Республики Беларусь'\n",
            " 'National Institute of Statistics'\n",
            " 'National Institute of Statistics, Minsitry of Planning, Cambodia'\n",
            " 'Instituto Nacional de Estatística' 'INSTITUTO NACIONAL DE ESTATISTICA'\n",
            " 'Subsecretaría de Telecomunicaciones'\n",
            " 'Departamento Administrativo Nacional de Estadística - DANE'\n",
            " 'Departamento Administrativo Nacional de Estadistica (DANE)'\n",
            " 'MICS 2017-18' 'Croatian Bureau of Statistics'\n",
            " 'Oficina Nacional de Estadisticas e Informacion '\n",
            " 'Oficina Nacional de Estadisticas e Informacion' 'ONEI'\n",
            " 'Statistical Service of Cyprus' 'STATISTICAL SERVICE OF CYPRUS'\n",
            " 'Czech Statistical Office' 'Statistics Denmark' 'Statistics Denmark '\n",
            " 'Oficina Nacional de Estadistica'\n",
            " 'Instituto Nacional de Estadistica y Censos'\n",
            " 'Statistical Office of Estonia' 'Statistics Estonia' 'Statistics Finland'\n",
            " 'Institut National de la Statistique et des Etudes Economiques'\n",
            " 'Direction de la Statistique et des Etudes Démographiques'\n",
            " 'National Statistics Office of Georgia' 'Geostat'\n",
            " 'National Statistics Office of Georgia - GEOSTAT'\n",
            " 'National Statistics Office of Georgia - Geostat' 'MICS 2018'\n",
            " 'Palestinian Central Bureau of Statistics' 'Federal Statistical Office'\n",
            " 'Statistisches Bundesamt (Destatis)' 'MICS 2018-19'\n",
            " 'Hellenic Statistical Authority' 'Census and Statistics Department' 'ITU'\n",
            " 'Hungarian Central Statistical Office'\n",
            " 'Hungarian Central Statistical Office ' 'Statistics Iceland'\n",
            " 'BPS-Statistics Indonesia' 'Statistical Centre of Iran (SCI)'\n",
            " 'Statistical Centre of Iran' 'Central Statistical Organization'\n",
            " 'Central Organization for Statistics And Information Technology'\n",
            " 'Communications and Media Commission' 'Central Statistics Office'\n",
            " 'Italian National Institute of Statistics' 'ARTCI'\n",
            " 'Statistical Institute of Jamaica (STATIN)'\n",
            " 'Statistical Institute of Jamaica'\n",
            " 'THE STATISTICAL INSTITUTE OF JAMAICA (STATIN)'\n",
            " 'Ministry of Internal Affairs and Communications'\n",
            " 'Ministry of National Economy of the Republic of Kazakhstan\\nCommittee on Statistics'\n",
            " 'Committee on Statistics, Ministry of National Economy of the Republic of Kazakhstan'\n",
            " 'Ministry of Science, ICT & Future Planning(MSIP)'\n",
            " 'Ministry of Science and ICT' 'Ministry of Science and ICT(MSIT)'\n",
            " 'Ministriy of Sceience and ICT(MSIT)'\n",
            " 'Communication and Information Technology Regulatory Authority'\n",
            " 'comminucations and information technology regulatory authority'\n",
            " 'MICS 2017' 'Central Statistical Bureau of Latvia'\n",
            " 'Central Statistical Bureau of latvia' 'Statistics Lithuania'\n",
            " 'Service Central de la Statistique et des Etudes Economiques (STATEC)'\n",
            " 'STATEC  (Institut national de la statistique et des études économiques)'\n",
            " 'Statec Luxembourg' 'Statistics and Census Service'\n",
            " 'Department of Statistics' 'Department of Statistics Malaysia'\n",
            " 'Department of Statistics, Malaysia' 'National Statistics Office'\n",
            " 'Instituto Nacional de Estadística y Geografía (INEGI)'\n",
            " 'National Statistical Office of Mongolia'\n",
            " 'Statistical Office of Montenegro'\n",
            " 'AGENCE NATIONALE DE REGLEMENTATION DES TELECOMMUJNICATIONS'\n",
            " 'Agence Nationale de Réglementation des Télécommunications'\n",
            " 'Agence Nationale de Réglementation des Télécommunications (ANRT)'\n",
            " 'Direction de la Statistique'\n",
            " 'Ministry of Transport, Communications and Information Technology '\n",
            " 'Ministry of Technology and Communications (MTC)'\n",
            " 'Information Technology Authority ' 'Statistics Netherlands'\n",
            " 'Central Bureau of Statistics'\n",
            " \"Ministère des Postes, des Télécommunications et de l'Economie Numérique\"\n",
            " 'Statistics Norway' 'PAKISTAN BUREAU OF STATISTICS'\n",
            " 'Pakistan Bureau of Statistics'\n",
            " 'Instituto Nacional de Estadística e Informática - INEI'\n",
            " 'Instituto Nacional de Estadistica e Informatica'\n",
            " 'Office of the National Statistician, Philippine Statistics Authority'\n",
            " 'Central Statistical Office' 'the Statistical Office in Szczecin '\n",
            " 'Statistics Poland' 'Instituto Nacional de Estatistica'\n",
            " 'Statistics Portugal' 'Ministry Of Transport and Communications'\n",
            " 'Ministry of Transport and Communications'\n",
            " 'Ministry of Information & Communication Technology'\n",
            " 'Federal State Statistics Service of the Russian Federation'\n",
            " 'Federal State Statistics Service (Rosstat)'\n",
            " 'Federal State Statistics Service (ROSSTAT)'\n",
            " 'Federal State Statistics Service (Rosstat) '\n",
            " 'Communication and Information Technology Commission (CITC)'\n",
            " 'Communications & IT Commission'\n",
            " 'Communication and Information Technology Commission'\n",
            " 'Communications andI nformation Technology Commision'\n",
            " 'Statistical Office of the Republic of Serbia'\n",
            " 'Statistical office of the Republic of Serbia'\n",
            " 'Infocomm Development Authority of Singapore'\n",
            " 'InfoComm Development Authority of Singapore'\n",
            " 'Infocomm Media Development Authority '\n",
            " 'Infocomm Media Development Authority'\n",
            " 'Statistical Office of the Slovak Republic'\n",
            " 'Statistical Office Of the Slovak Republic'\n",
            " 'Statistical Office of the Republic of Slovenia'\n",
            " 'Statistical Office of the Republic of Slovenia '\n",
            " 'Zimbabwe National Statistics Agency (ZIMSTAT)'\n",
            " 'Instituto Nacional de Estadistica'\n",
            " 'Instituto Nacional de Estadística (INE)' 'Statistics Sweden'\n",
            " 'Statistics Sweden (Statistiska centralbyrån )'\n",
            " 'Office fédéral de la statistique' 'Swiss Federal Statistical Office'\n",
            " 'National Statistical Office' 'National Statistical Office of Thailand'\n",
            " 'Institut national de la statistique et des études économiques et démographiques '\n",
            " 'Telecommunications Regulatory Authority '\n",
            " 'Federal Competitiveness and Statistics Authorithy'\n",
            " 'Telecommunication Regulatory Authority'\n",
            " 'Institut National de la Statistique' 'Turkish Statistical Institute'\n",
            " 'State Statistical Office'\n",
            " 'Ministry of Communications and Information Technology'\n",
            " 'Central Agency For Public Mobilization And Statistics (CAPMAS)'\n",
            " 'Office for National Statistics'\n",
            " 'State Committee of the Republic of Uzbekistan on Statistics '\n",
            " 'The State Committee of the Republic of Uzbekistan on Statistics'\n",
            " 'Community survey on ICT usage in households and by individuals (Eurostat)'\n",
            " 'International Telecommunication Union (ITU)'\n",
            " 'National Household Survey 2018-I'\n",
            " 'National Assessment (NA): IT bland individer'\n",
            " 'LFS - Labour force survey. Reference period for participation in education and training: unknown, likely 1 month prior to the interview.'\n",
            " 'PIAAC 2012' 'PIAAC 2015' 'PIAAC 2017' 'PIAAC 2012/2014'\n",
            " 'Skills Towards Employability and Productivity (STEP) of World Bank'\n",
            " 'National Assessment (NA): Literacy Assessment Survey (LAS);Proficient = Literate and Advanced;Literate at Initial Level;Not Proficient = SemiLiterate, NonLiterate'\n",
            " 'National Assessment (NA): Literacy Assessment and Monitoring Programme (LAMP);Proficient = Level 3, Level 2;Not Proficient = Level 1'\n",
            " 'National Assessment (NA): Literacy Assessment and Monitoring Programme (LAMP);Proficient = Level 3, Level 2;Not Proficient = Level 1;Combination of Prose and Documents'\n",
            " 'National Assessment (NA): Kenya National Adult Literacy Survey Report 2007;Proficient = Level 5, Level 4, Level 3;Not Proficient = Level 2, Level 1, Level 0'\n",
            " 'National Assessment (NA): Functional Literacy, Education and Mass Media Survey (FLEMMS);Proficient = Level 4, Level 3, Level 2, Level 1;Not Proficient = Level 0, Undetermined'\n",
            " 'National Assessment (NA): General Household Survey;Proficient = No Difficulty, Some Difficulty, A lot of Difficulty (calculation for change in rand);Not Proficient = Unable to Do (calculation for change in rand)'\n",
            " 'National Assessment (NA): General Household Survey;Proficient = Completion of Grade 7 or Higher;Not Proficient = Completion up to Grade 8'\n",
            " 'National Assessment (NA): General Household Survey;Proficient = Completion of Grade 7 or Higher;Not Proficient = Completion up to Grade 7'\n",
            " 'National Assessment (NA): General Household Survey;Proficient = Completion of Grade 7 or Higher;Not Proficient = Completion up to Grade 9'\n",
            " 'Household Surveys'\n",
            " 'The Organisation for Economic Co-operation and Development (OECD).']\n",
            "Column:  GeoInfoUrl\n",
            "Missing values:  191762\n",
            "Unique values:  [nan]\n",
            "Column:  FootNote\n",
            "Missing values:  176950\n",
            "Unique values:  [nan 'This data point is NOT APPLICABLE for the submitting nation.'\n",
            " 'This should be treated as NIL.'\n",
            " 'Based on 74 countries with a population coverage of 27 per cent. Estimates for boys and girls are not directly comparable to the total, as they are based on a subset of countries with available data by sex.'\n",
            " 'Based on 76 countries with a population coverage of 31 per cent. Estimates for boys and girls are not directly comparable to the total, as they are based on a subset of countries with available data by sex.'\n",
            " 'Based on 6 countries with a population coverage of 68 per cent. Estimates for boys and girls are not directly comparable to the total, as they are based on a subset of countries with available data by sex.'\n",
            " 'Based on youngest child aged 36-59 months in the household'\n",
            " 'Based on 7 countries with a population coverage of 54 per cent'\n",
            " 'Based on oldest child aged 36-59 months in the household'\n",
            " 'Based on 26 countries with a population coverage of 60 per cent'\n",
            " 'Based on youngest child aged 36-47 months in the household'\n",
            " 'Based on 16 countries with a population coverage of 63 per cent. Estimates for boys and girls are not directly comparable to the total, as they are based on a subset of countries with available data by sex.'\n",
            " 'age 15-49'\n",
            " 'Gross disbursements | Based on OECD, CRS databased, 2020 | Constant 2018 USD million']\n",
            "Column:  Age\n",
            "Missing values:  191281\n",
            "Unique values:  [nan 'M36T59' 'M36T47' '16-65']\n",
            "Column:  Education level\n",
            "Missing values:  17879\n",
            "Unique values:  ['PRIMAR' 'GRAD23' 'LOWSEC' 'UPPSEC' nan 'PREPRI' 'SECOND' '_T']\n",
            "Column:  Location\n",
            "Missing values:  78911\n",
            "Unique values:  [nan 'RURAL' 'URBAN' 'ALLAREA']\n",
            "Column:  Nature\n",
            "Missing values:  0\n",
            "Unique values:  ['C' 'E' 'CA']\n",
            "Column:  Quantile\n",
            "Missing values:  55387\n",
            "Unique values:  [nan 'Q1' 'Q2' 'Q4' 'Q5' '_T' 'Q3']\n",
            "Column:  Reporting Type\n",
            "Missing values:  0\n",
            "Unique values:  ['G']\n",
            "Column:  Sex\n",
            "Missing values:  48829\n",
            "Unique values:  ['BOTHSEX' 'MALE' 'FEMALE' nan]\n",
            "Column:  Type of skill\n",
            "Missing values:  175898\n",
            "Unique values:  ['SKILL_MATH' 'SKILL_READ' nan 'COPA' 'SOFT' 'TRAF' 'PCPR' 'CMFL' 'EPRS'\n",
            " 'EMAIL' 'INST' 'ARSP' 'NUME' 'LITE']\n",
            "Column:  Units\n",
            "Missing values:  0\n",
            "Unique values:  ['PERCENT' 'Ratio' 'CON_USD']\n",
            "Column:  Unnamed: 26\n",
            "Missing values:  191762\n",
            "Unique values:  [nan]\n",
            "Column:  Unnamed: 27\n",
            "Missing values:  191762\n",
            "Unique values:  [nan]\n",
            "Column:  Unnamed: 28\n",
            "Missing values:  191762\n",
            "Unique values:  [nan]\n",
            "Column:  Unnamed: 29\n",
            "Missing values:  191762\n",
            "Unique values:  [nan]\n",
            "Column:  Unnamed: 30\n",
            "Missing values:  191762\n",
            "Unique values:  [nan]\n",
            "Column:  Unnamed: 31\n",
            "Missing values:  191762\n",
            "Unique values:  [nan]\n",
            "Column:  Unnamed: 32\n",
            "Missing values:  191762\n",
            "Unique values:  [nan]\n",
            "Column:  Unnamed: 33\n",
            "Missing values:  191762\n",
            "Unique values:  [nan]\n",
            "Column:  Unnamed: 34\n",
            "Missing values:  191762\n",
            "Unique values:  [nan]\n",
            "Column:  Unnamed: 35\n",
            "Missing values:  191762\n",
            "Unique values:  [nan]\n",
            "Column:  Unnamed: 36\n",
            "Missing values:  191762\n",
            "Unique values:  [nan]\n",
            "Column:  Unnamed: 37\n",
            "Missing values:  191762\n",
            "Unique values:  [nan]\n",
            "Column:  Unnamed: 38\n",
            "Missing values:  191762\n",
            "Unique values:  [nan]\n",
            "Column:  Unnamed: 39\n",
            "Missing values:  191762\n",
            "Unique values:  [nan]\n",
            "Column:  Unnamed: 40\n",
            "Missing values:  191762\n",
            "Unique values:  [nan]\n",
            "Column:  Unnamed: 41\n",
            "Missing values:  191762\n",
            "Unique values:  [nan]\n",
            "Column:  Unnamed: 42\n",
            "Missing values:  191762\n",
            "Unique values:  [nan]\n",
            "Column:  Unnamed: 43\n",
            "Missing values:  191762\n",
            "Unique values:  [nan]\n",
            "Column:  Unnamed: 44\n",
            "Missing values:  191762\n",
            "Unique values:  [nan]\n",
            "Column:  Unnamed: 45\n",
            "Missing values:  191762\n",
            "Unique values:  [nan]\n",
            "Column:  Unnamed: 46\n",
            "Missing values:  191762\n",
            "Unique values:  [nan]\n",
            "Column:  Unnamed: 47\n",
            "Missing values:  191762\n",
            "Unique values:  [nan]\n",
            "Column:  Unnamed: 48\n",
            "Missing values:  191762\n",
            "Unique values:  [nan]\n",
            "Column:  Unnamed: 49\n",
            "Missing values:  191762\n",
            "Unique values:  [nan]\n",
            "Column:  Unnamed: 50\n",
            "Missing values:  191762\n",
            "Unique values:  [nan]\n",
            "Column:  Unnamed: 51\n",
            "Missing values:  191762\n",
            "Unique values:  [nan]\n"
          ],
          "name": "stdout"
        }
      ]
    },
    {
      "cell_type": "code",
      "metadata": {
        "id": "SW2H8J1gPI-o"
      },
      "source": [
        "Drop_Columns=[ \"Goal\", \"SeriesDescription\", \"BasePeriod\", \"TimeCoverage\", \"UpperBound\", \"LowerBound\", \"GeoInfoUrl\", \"Unnamed: 26\", \"Unnamed: 27\", \"Unnamed: 28\", \"Unnamed: 29\", \"Unnamed: 30\", \"Unnamed: 31\", \"Unnamed: 32\", \"Unnamed: 33\", \"Unnamed: 34\", \"Unnamed: 35\", \"Unnamed: 36\", \"Unnamed: 37\", \"Unnamed: 38\", \"Unnamed: 39\", \"Unnamed: 40\", \"Unnamed: 41\", \"Unnamed: 42\", \"Unnamed: 43\", \"Unnamed: 44\", \"Unnamed: 45\", \"Unnamed: 46\", \"Unnamed: 47\", \"Unnamed: 48\", \"Unnamed: 49\", \"Unnamed: 50\", \"Unnamed: 51\"]"
      ],
      "execution_count": null,
      "outputs": []
    },
    {
      "cell_type": "markdown",
      "metadata": {
        "id": "0Z-H45Q69zA5"
      },
      "source": [
        "**Percentage of missing values**"
      ]
    },
    {
      "cell_type": "code",
      "metadata": {
        "id": "8HioHQcaPI-o",
        "colab": {
          "base_uri": "https://localhost:8080/"
        },
        "outputId": "e4406055-bcee-433f-ce99-447a1fafdaa4"
      },
      "source": [
        "df_SeriesDescription.isnull().mean()"
      ],
      "execution_count": null,
      "outputs": [
        {
          "output_type": "execute_result",
          "data": {
            "text/plain": [
              "Goal                 0.0\n",
              "Target               0.0\n",
              "Indicator            0.0\n",
              "SeriesCode           0.0\n",
              "SeriesDescription    0.0\n",
              "GeoAreaCode          0.0\n",
              "GeoAreaName          0.0\n",
              "TimePeriod           0.0\n",
              "Value                0.0\n",
              "Time_Detail          0.0\n",
              "TimeCoverage         1.0\n",
              "UpperBound           1.0\n",
              "LowerBound           1.0\n",
              "BasePeriod           1.0\n",
              "Source               0.0\n",
              "GeoInfoUrl           1.0\n",
              "FootNote             1.0\n",
              "Age                  1.0\n",
              "Education level      0.0\n",
              "Location             1.0\n",
              "Nature               0.0\n",
              "Quantile             1.0\n",
              "Reporting Type       0.0\n",
              "Sex                  0.0\n",
              "Type of skill        0.0\n",
              "Units                0.0\n",
              "Unnamed: 26          1.0\n",
              "Unnamed: 27          1.0\n",
              "Unnamed: 28          1.0\n",
              "Unnamed: 29          1.0\n",
              "Unnamed: 30          1.0\n",
              "Unnamed: 31          1.0\n",
              "Unnamed: 32          1.0\n",
              "Unnamed: 33          1.0\n",
              "Unnamed: 34          1.0\n",
              "Unnamed: 35          1.0\n",
              "Unnamed: 36          1.0\n",
              "Unnamed: 37          1.0\n",
              "Unnamed: 38          1.0\n",
              "Unnamed: 39          1.0\n",
              "Unnamed: 40          1.0\n",
              "Unnamed: 41          1.0\n",
              "Unnamed: 42          1.0\n",
              "Unnamed: 43          1.0\n",
              "Unnamed: 44          1.0\n",
              "Unnamed: 45          1.0\n",
              "Unnamed: 46          1.0\n",
              "Unnamed: 47          1.0\n",
              "Unnamed: 48          1.0\n",
              "Unnamed: 49          1.0\n",
              "Unnamed: 50          1.0\n",
              "Unnamed: 51          1.0\n",
              "dtype: float64"
            ]
          },
          "metadata": {
            "tags": []
          },
          "execution_count": 181
        }
      ]
    },
    {
      "cell_type": "code",
      "metadata": {
        "id": "WqGgsE0OPI-o"
      },
      "source": [
        "df_SeriesDescription = df_SeriesDescription.drop(Drop_Columns, axis =1)"
      ],
      "execution_count": null,
      "outputs": []
    },
    {
      "cell_type": "code",
      "metadata": {
        "id": "F41IvkrqPI-o",
        "colab": {
          "base_uri": "https://localhost:8080/",
          "height": 297
        },
        "outputId": "b78ec4c9-eef7-45a2-d712-8b76781e3998"
      },
      "source": [
        "df_SeriesDescription.describe()"
      ],
      "execution_count": null,
      "outputs": [
        {
          "output_type": "execute_result",
          "data": {
            "text/html": [
              "<div>\n",
              "<style scoped>\n",
              "    .dataframe tbody tr th:only-of-type {\n",
              "        vertical-align: middle;\n",
              "    }\n",
              "\n",
              "    .dataframe tbody tr th {\n",
              "        vertical-align: top;\n",
              "    }\n",
              "\n",
              "    .dataframe thead th {\n",
              "        text-align: right;\n",
              "    }\n",
              "</style>\n",
              "<table border=\"1\" class=\"dataframe\">\n",
              "  <thead>\n",
              "    <tr style=\"text-align: right;\">\n",
              "      <th></th>\n",
              "      <th>GeoAreaCode</th>\n",
              "      <th>TimePeriod</th>\n",
              "      <th>Value</th>\n",
              "    </tr>\n",
              "  </thead>\n",
              "  <tbody>\n",
              "    <tr>\n",
              "      <th>count</th>\n",
              "      <td>3989.000000</td>\n",
              "      <td>3989.000000</td>\n",
              "      <td>3989.000000</td>\n",
              "    </tr>\n",
              "    <tr>\n",
              "      <th>mean</th>\n",
              "      <td>428.428177</td>\n",
              "      <td>2010.154174</td>\n",
              "      <td>62.595209</td>\n",
              "    </tr>\n",
              "    <tr>\n",
              "      <th>std</th>\n",
              "      <td>244.082691</td>\n",
              "      <td>5.333421</td>\n",
              "      <td>25.898100</td>\n",
              "    </tr>\n",
              "    <tr>\n",
              "      <th>min</th>\n",
              "      <td>4.000000</td>\n",
              "      <td>2000.000000</td>\n",
              "      <td>0.900000</td>\n",
              "    </tr>\n",
              "    <tr>\n",
              "      <th>25%</th>\n",
              "      <td>214.000000</td>\n",
              "      <td>2006.000000</td>\n",
              "      <td>43.120000</td>\n",
              "    </tr>\n",
              "    <tr>\n",
              "      <th>50%</th>\n",
              "      <td>414.000000</td>\n",
              "      <td>2011.000000</td>\n",
              "      <td>69.549308</td>\n",
              "    </tr>\n",
              "    <tr>\n",
              "      <th>75%</th>\n",
              "      <td>634.000000</td>\n",
              "      <td>2015.000000</td>\n",
              "      <td>83.340000</td>\n",
              "    </tr>\n",
              "    <tr>\n",
              "      <th>max</th>\n",
              "      <td>894.000000</td>\n",
              "      <td>2019.000000</td>\n",
              "      <td>99.683330</td>\n",
              "    </tr>\n",
              "  </tbody>\n",
              "</table>\n",
              "</div>"
            ],
            "text/plain": [
              "       GeoAreaCode   TimePeriod        Value\n",
              "count  3989.000000  3989.000000  3989.000000\n",
              "mean    428.428177  2010.154174    62.595209\n",
              "std     244.082691     5.333421    25.898100\n",
              "min       4.000000  2000.000000     0.900000\n",
              "25%     214.000000  2006.000000    43.120000\n",
              "50%     414.000000  2011.000000    69.549308\n",
              "75%     634.000000  2015.000000    83.340000\n",
              "max     894.000000  2019.000000    99.683330"
            ]
          },
          "metadata": {
            "tags": []
          },
          "execution_count": 183
        }
      ]
    },
    {
      "cell_type": "code",
      "metadata": {
        "id": "QivGcPocPI-q",
        "colab": {
          "base_uri": "https://localhost:8080/"
        },
        "outputId": "d4a2bede-7da3-4adf-983d-401497859dc1"
      },
      "source": [
        "df_SeriesDescription.isnull().mean()"
      ],
      "execution_count": null,
      "outputs": [
        {
          "output_type": "execute_result",
          "data": {
            "text/plain": [
              "Target             0.0\n",
              "Indicator          0.0\n",
              "SeriesCode         0.0\n",
              "GeoAreaCode        0.0\n",
              "GeoAreaName        0.0\n",
              "TimePeriod         0.0\n",
              "Value              0.0\n",
              "Time_Detail        0.0\n",
              "Source             0.0\n",
              "FootNote           1.0\n",
              "Age                1.0\n",
              "Education level    0.0\n",
              "Location           1.0\n",
              "Nature             0.0\n",
              "Quantile           1.0\n",
              "Reporting Type     0.0\n",
              "Sex                0.0\n",
              "Type of skill      0.0\n",
              "Units              0.0\n",
              "dtype: float64"
            ]
          },
          "metadata": {
            "tags": []
          },
          "execution_count": 184
        }
      ]
    },
    {
      "cell_type": "code",
      "metadata": {
        "id": "A3FrkejtPI-q"
      },
      "source": [
        "missing_columns = [\"Value\", \"Education level\", \"Location\", \"Quantile\", \"Sex\"]"
      ],
      "execution_count": null,
      "outputs": []
    },
    {
      "cell_type": "code",
      "metadata": {
        "id": "vt96gwmXPI-q"
      },
      "source": [
        "df[missing_columns]"
      ],
      "execution_count": null,
      "outputs": []
    },
    {
      "cell_type": "markdown",
      "metadata": {
        "id": "PmiO-ph7PI-r"
      },
      "source": [
        "Numerical : value\n",
        "\n",
        "Categorical : sex, Education Level, Location, Quantile"
      ]
    },
    {
      "cell_type": "markdown",
      "metadata": {
        "id": "nKkshgXQ-CAF"
      },
      "source": [
        "**Drop the values of the Value feature having the Nan value**\n",
        "\n"
      ]
    },
    {
      "cell_type": "code",
      "metadata": {
        "id": "YDD6wFUNPI-r"
      },
      "source": [
        "df= df.dropna(subset=[\"Value\"], axis = 0)"
      ],
      "execution_count": null,
      "outputs": []
    },
    {
      "cell_type": "markdown",
      "metadata": {
        "id": "5BDnryty-Rwe"
      },
      "source": [
        "**Impute the missing values using the mode which is group by GeoArea **"
      ]
    },
    {
      "cell_type": "code",
      "metadata": {
        "id": "GHRwYTJzPI-r"
      },
      "source": [
        "def fill_mode_for_Categorical_attribute(df, columns):\n",
        "    for c in columns :\n",
        "        most_frequent_value =df[c].mode()[0]\n",
        "        df[c].fillna(most_frequent_value,inplace=True)\n",
        "    return df"
      ],
      "execution_count": null,
      "outputs": []
    },
    {
      "cell_type": "code",
      "metadata": {
        "id": "we2qwzW_PI-r"
      },
      "source": [
        "df = fill_mode_for_Categorical_attribute(df, [\"Education level\", \"Location\", \"Quantile\", \"Sex\"])"
      ],
      "execution_count": null,
      "outputs": []
    },
    {
      "cell_type": "code",
      "metadata": {
        "id": "Ynu1f0eOPI-s"
      },
      "source": [
        "df_SeriesDescription = df_SeriesDescription.drop([\"Age\", \"BasePeriod\", \"FootNote\", \"Type of skill\"], axis=1)"
      ],
      "execution_count": null,
      "outputs": []
    },
    {
      "cell_type": "code",
      "metadata": {
        "id": "grorO2rwPI-s"
      },
      "source": [
        "frames = []\n",
        "for i in list(set(df_SeriesDescription['GeoAreaName'])):\n",
        "    df_country = df_SeriesDescription[df_SeriesDescription['GeoAreaName']== i]\n",
        "    df_country['Education level'].fillna(df_country['Education level'].mode(),inplace = True)\n",
        "    df_country['Sex'].fillna(df_country['Sex'].mode(),inplace = True)\n",
        "    df_country['Location'].fillna(df_country['Location'].mode(),inplace = True)\n",
        "    df_country['Quantile'].fillna(df_country['Quantile'].mode(),inplace = True)\n",
        "    frames.append(df_country)\n",
        "    final_df = pd.concat(frames)"
      ],
      "execution_count": null,
      "outputs": []
    },
    {
      "cell_type": "markdown",
      "metadata": {
        "id": "Q6rmPwa9PI-s"
      },
      "source": [
        "**Cleaned Data**"
      ]
    },
    {
      "cell_type": "code",
      "metadata": {
        "id": "F5IyeCPdPI-s",
        "colab": {
          "base_uri": "https://localhost:8080/",
          "height": 626
        },
        "outputId": "9b7c57c6-1d57-4bc9-a0c6-50309bc0e103"
      },
      "source": [
        "final_df"
      ],
      "execution_count": null,
      "outputs": [
        {
          "output_type": "execute_result",
          "data": {
            "text/html": [
              "<div>\n",
              "<style scoped>\n",
              "    .dataframe tbody tr th:only-of-type {\n",
              "        vertical-align: middle;\n",
              "    }\n",
              "\n",
              "    .dataframe tbody tr th {\n",
              "        vertical-align: top;\n",
              "    }\n",
              "\n",
              "    .dataframe thead th {\n",
              "        text-align: right;\n",
              "    }\n",
              "</style>\n",
              "<table border=\"1\" class=\"dataframe\">\n",
              "  <thead>\n",
              "    <tr style=\"text-align: right;\">\n",
              "      <th></th>\n",
              "      <th>Target</th>\n",
              "      <th>Indicator</th>\n",
              "      <th>SeriesCode</th>\n",
              "      <th>GeoAreaCode</th>\n",
              "      <th>GeoAreaName</th>\n",
              "      <th>TimePeriod</th>\n",
              "      <th>Value</th>\n",
              "      <th>Time_Detail</th>\n",
              "      <th>Source</th>\n",
              "      <th>FootNote</th>\n",
              "      <th>Age</th>\n",
              "      <th>Education level</th>\n",
              "      <th>Location</th>\n",
              "      <th>Nature</th>\n",
              "      <th>Quantile</th>\n",
              "      <th>Reporting Type</th>\n",
              "      <th>Sex</th>\n",
              "      <th>Type of skill</th>\n",
              "      <th>Units</th>\n",
              "    </tr>\n",
              "  </thead>\n",
              "  <tbody>\n",
              "    <tr>\n",
              "      <th>2032</th>\n",
              "      <td>4.1</td>\n",
              "      <td>4.1.1</td>\n",
              "      <td>SE_TOT_PRFL</td>\n",
              "      <td>426</td>\n",
              "      <td>Lesotho</td>\n",
              "      <td>2006</td>\n",
              "      <td>23.600000</td>\n",
              "      <td>2006</td>\n",
              "      <td>SACMEQ 2006</td>\n",
              "      <td>NaN</td>\n",
              "      <td>NaN</td>\n",
              "      <td>PRIMAR</td>\n",
              "      <td>NaN</td>\n",
              "      <td>C</td>\n",
              "      <td>NaN</td>\n",
              "      <td>G</td>\n",
              "      <td>FEMALE</td>\n",
              "      <td>SKILL_READ</td>\n",
              "      <td>PERCENT</td>\n",
              "    </tr>\n",
              "    <tr>\n",
              "      <th>2033</th>\n",
              "      <td>4.1</td>\n",
              "      <td>4.1.1</td>\n",
              "      <td>SE_TOT_PRFL</td>\n",
              "      <td>426</td>\n",
              "      <td>Lesotho</td>\n",
              "      <td>2006</td>\n",
              "      <td>22.000000</td>\n",
              "      <td>2006</td>\n",
              "      <td>SACMEQ 2006</td>\n",
              "      <td>NaN</td>\n",
              "      <td>NaN</td>\n",
              "      <td>PRIMAR</td>\n",
              "      <td>NaN</td>\n",
              "      <td>C</td>\n",
              "      <td>NaN</td>\n",
              "      <td>G</td>\n",
              "      <td>BOTHSEX</td>\n",
              "      <td>SKILL_READ</td>\n",
              "      <td>PERCENT</td>\n",
              "    </tr>\n",
              "    <tr>\n",
              "      <th>2034</th>\n",
              "      <td>4.1</td>\n",
              "      <td>4.1.1</td>\n",
              "      <td>SE_TOT_PRFL</td>\n",
              "      <td>426</td>\n",
              "      <td>Lesotho</td>\n",
              "      <td>2006</td>\n",
              "      <td>5.600000</td>\n",
              "      <td>2006</td>\n",
              "      <td>SACMEQ 2006</td>\n",
              "      <td>NaN</td>\n",
              "      <td>NaN</td>\n",
              "      <td>PRIMAR</td>\n",
              "      <td>NaN</td>\n",
              "      <td>C</td>\n",
              "      <td>NaN</td>\n",
              "      <td>G</td>\n",
              "      <td>MALE</td>\n",
              "      <td>SKILL_MATH</td>\n",
              "      <td>PERCENT</td>\n",
              "    </tr>\n",
              "    <tr>\n",
              "      <th>2035</th>\n",
              "      <td>4.1</td>\n",
              "      <td>4.1.1</td>\n",
              "      <td>SE_TOT_PRFL</td>\n",
              "      <td>426</td>\n",
              "      <td>Lesotho</td>\n",
              "      <td>2006</td>\n",
              "      <td>5.100000</td>\n",
              "      <td>2006</td>\n",
              "      <td>SACMEQ 2006</td>\n",
              "      <td>NaN</td>\n",
              "      <td>NaN</td>\n",
              "      <td>PRIMAR</td>\n",
              "      <td>NaN</td>\n",
              "      <td>C</td>\n",
              "      <td>NaN</td>\n",
              "      <td>G</td>\n",
              "      <td>FEMALE</td>\n",
              "      <td>SKILL_MATH</td>\n",
              "      <td>PERCENT</td>\n",
              "    </tr>\n",
              "    <tr>\n",
              "      <th>2036</th>\n",
              "      <td>4.1</td>\n",
              "      <td>4.1.1</td>\n",
              "      <td>SE_TOT_PRFL</td>\n",
              "      <td>426</td>\n",
              "      <td>Lesotho</td>\n",
              "      <td>2006</td>\n",
              "      <td>5.300000</td>\n",
              "      <td>2006</td>\n",
              "      <td>SACMEQ 2006</td>\n",
              "      <td>NaN</td>\n",
              "      <td>NaN</td>\n",
              "      <td>PRIMAR</td>\n",
              "      <td>NaN</td>\n",
              "      <td>C</td>\n",
              "      <td>NaN</td>\n",
              "      <td>G</td>\n",
              "      <td>BOTHSEX</td>\n",
              "      <td>SKILL_MATH</td>\n",
              "      <td>PERCENT</td>\n",
              "    </tr>\n",
              "    <tr>\n",
              "      <th>...</th>\n",
              "      <td>...</td>\n",
              "      <td>...</td>\n",
              "      <td>...</td>\n",
              "      <td>...</td>\n",
              "      <td>...</td>\n",
              "      <td>...</td>\n",
              "      <td>...</td>\n",
              "      <td>...</td>\n",
              "      <td>...</td>\n",
              "      <td>...</td>\n",
              "      <td>...</td>\n",
              "      <td>...</td>\n",
              "      <td>...</td>\n",
              "      <td>...</td>\n",
              "      <td>...</td>\n",
              "      <td>...</td>\n",
              "      <td>...</td>\n",
              "      <td>...</td>\n",
              "      <td>...</td>\n",
              "    </tr>\n",
              "    <tr>\n",
              "      <th>3549</th>\n",
              "      <td>4.1</td>\n",
              "      <td>4.1.1</td>\n",
              "      <td>SE_TOT_PRFL</td>\n",
              "      <td>756</td>\n",
              "      <td>Switzerland</td>\n",
              "      <td>2018</td>\n",
              "      <td>76.365941</td>\n",
              "      <td>2018</td>\n",
              "      <td>PISA 2018</td>\n",
              "      <td>NaN</td>\n",
              "      <td>NaN</td>\n",
              "      <td>LOWSEC</td>\n",
              "      <td>NaN</td>\n",
              "      <td>C</td>\n",
              "      <td>NaN</td>\n",
              "      <td>G</td>\n",
              "      <td>BOTHSEX</td>\n",
              "      <td>SKILL_READ</td>\n",
              "      <td>PERCENT</td>\n",
              "    </tr>\n",
              "    <tr>\n",
              "      <th>3550</th>\n",
              "      <td>4.1</td>\n",
              "      <td>4.1.1</td>\n",
              "      <td>SE_TOT_PRFL</td>\n",
              "      <td>756</td>\n",
              "      <td>Switzerland</td>\n",
              "      <td>2018</td>\n",
              "      <td>71.697186</td>\n",
              "      <td>2018</td>\n",
              "      <td>PISA 2018</td>\n",
              "      <td>NaN</td>\n",
              "      <td>NaN</td>\n",
              "      <td>LOWSEC</td>\n",
              "      <td>NaN</td>\n",
              "      <td>C</td>\n",
              "      <td>NaN</td>\n",
              "      <td>G</td>\n",
              "      <td>MALE</td>\n",
              "      <td>SKILL_READ</td>\n",
              "      <td>PERCENT</td>\n",
              "    </tr>\n",
              "    <tr>\n",
              "      <th>3551</th>\n",
              "      <td>4.1</td>\n",
              "      <td>4.1.1</td>\n",
              "      <td>SE_TOT_PRFL</td>\n",
              "      <td>756</td>\n",
              "      <td>Switzerland</td>\n",
              "      <td>2018</td>\n",
              "      <td>83.171977</td>\n",
              "      <td>2018</td>\n",
              "      <td>PISA 2018</td>\n",
              "      <td>NaN</td>\n",
              "      <td>NaN</td>\n",
              "      <td>LOWSEC</td>\n",
              "      <td>NaN</td>\n",
              "      <td>C</td>\n",
              "      <td>NaN</td>\n",
              "      <td>G</td>\n",
              "      <td>BOTHSEX</td>\n",
              "      <td>SKILL_MATH</td>\n",
              "      <td>PERCENT</td>\n",
              "    </tr>\n",
              "    <tr>\n",
              "      <th>3552</th>\n",
              "      <td>4.1</td>\n",
              "      <td>4.1.1</td>\n",
              "      <td>SE_TOT_PRFL</td>\n",
              "      <td>756</td>\n",
              "      <td>Switzerland</td>\n",
              "      <td>2018</td>\n",
              "      <td>82.532347</td>\n",
              "      <td>2018</td>\n",
              "      <td>PISA 2018</td>\n",
              "      <td>NaN</td>\n",
              "      <td>NaN</td>\n",
              "      <td>LOWSEC</td>\n",
              "      <td>NaN</td>\n",
              "      <td>C</td>\n",
              "      <td>NaN</td>\n",
              "      <td>G</td>\n",
              "      <td>FEMALE</td>\n",
              "      <td>SKILL_MATH</td>\n",
              "      <td>PERCENT</td>\n",
              "    </tr>\n",
              "    <tr>\n",
              "      <th>3553</th>\n",
              "      <td>4.1</td>\n",
              "      <td>4.1.1</td>\n",
              "      <td>SE_TOT_PRFL</td>\n",
              "      <td>756</td>\n",
              "      <td>Switzerland</td>\n",
              "      <td>2018</td>\n",
              "      <td>83.747121</td>\n",
              "      <td>2018</td>\n",
              "      <td>PISA 2018</td>\n",
              "      <td>NaN</td>\n",
              "      <td>NaN</td>\n",
              "      <td>LOWSEC</td>\n",
              "      <td>NaN</td>\n",
              "      <td>C</td>\n",
              "      <td>NaN</td>\n",
              "      <td>G</td>\n",
              "      <td>MALE</td>\n",
              "      <td>SKILL_MATH</td>\n",
              "      <td>PERCENT</td>\n",
              "    </tr>\n",
              "  </tbody>\n",
              "</table>\n",
              "<p>3989 rows × 19 columns</p>\n",
              "</div>"
            ],
            "text/plain": [
              "     Target Indicator   SeriesCode  ...      Sex Type of skill    Units\n",
              "2032    4.1     4.1.1  SE_TOT_PRFL  ...   FEMALE    SKILL_READ  PERCENT\n",
              "2033    4.1     4.1.1  SE_TOT_PRFL  ...  BOTHSEX    SKILL_READ  PERCENT\n",
              "2034    4.1     4.1.1  SE_TOT_PRFL  ...     MALE    SKILL_MATH  PERCENT\n",
              "2035    4.1     4.1.1  SE_TOT_PRFL  ...   FEMALE    SKILL_MATH  PERCENT\n",
              "2036    4.1     4.1.1  SE_TOT_PRFL  ...  BOTHSEX    SKILL_MATH  PERCENT\n",
              "...     ...       ...          ...  ...      ...           ...      ...\n",
              "3549    4.1     4.1.1  SE_TOT_PRFL  ...  BOTHSEX    SKILL_READ  PERCENT\n",
              "3550    4.1     4.1.1  SE_TOT_PRFL  ...     MALE    SKILL_READ  PERCENT\n",
              "3551    4.1     4.1.1  SE_TOT_PRFL  ...  BOTHSEX    SKILL_MATH  PERCENT\n",
              "3552    4.1     4.1.1  SE_TOT_PRFL  ...   FEMALE    SKILL_MATH  PERCENT\n",
              "3553    4.1     4.1.1  SE_TOT_PRFL  ...     MALE    SKILL_MATH  PERCENT\n",
              "\n",
              "[3989 rows x 19 columns]"
            ]
          },
          "metadata": {
            "tags": []
          },
          "execution_count": 186
        }
      ]
    },
    {
      "cell_type": "code",
      "metadata": {
        "id": "PAHdSJ7OPI-s",
        "colab": {
          "base_uri": "https://localhost:8080/"
        },
        "outputId": "0372d4ff-df08-46e8-b36a-9d7d57fe4c61"
      },
      "source": [
        "final_df.info()"
      ],
      "execution_count": null,
      "outputs": [
        {
          "output_type": "stream",
          "text": [
            "<class 'pandas.core.frame.DataFrame'>\n",
            "Int64Index: 3989 entries, 2032 to 3553\n",
            "Data columns (total 19 columns):\n",
            " #   Column           Non-Null Count  Dtype  \n",
            "---  ------           --------------  -----  \n",
            " 0   Target           3989 non-null   object \n",
            " 1   Indicator        3989 non-null   object \n",
            " 2   SeriesCode       3989 non-null   object \n",
            " 3   GeoAreaCode      3989 non-null   int64  \n",
            " 4   GeoAreaName      3989 non-null   object \n",
            " 5   TimePeriod       3989 non-null   int64  \n",
            " 6   Value            3989 non-null   float64\n",
            " 7   Time_Detail      3989 non-null   object \n",
            " 8   Source           3989 non-null   object \n",
            " 9   FootNote         0 non-null      object \n",
            " 10  Age              0 non-null      object \n",
            " 11  Education level  3989 non-null   object \n",
            " 12  Location         0 non-null      float64\n",
            " 13  Nature           3989 non-null   object \n",
            " 14  Quantile         0 non-null      float64\n",
            " 15  Reporting Type   3989 non-null   object \n",
            " 16  Sex              3989 non-null   object \n",
            " 17  Type of skill    3989 non-null   object \n",
            " 18  Units            3989 non-null   object \n",
            "dtypes: float64(3), int64(2), object(14)\n",
            "memory usage: 623.3+ KB\n"
          ],
          "name": "stdout"
        }
      ]
    },
    {
      "cell_type": "code",
      "metadata": {
        "id": "bZ5-GKHraAOE",
        "colab": {
          "base_uri": "https://localhost:8080/"
        },
        "outputId": "0903b074-cb93-4dc2-a0fe-60c7e4c7941b"
      },
      "source": [
        "final_df.columns"
      ],
      "execution_count": null,
      "outputs": [
        {
          "output_type": "execute_result",
          "data": {
            "text/plain": [
              "Index(['Target', 'Indicator', 'SeriesCode', 'GeoAreaCode', 'GeoAreaName',\n",
              "       'TimePeriod', 'Value', 'Time_Detail', 'Source', 'FootNote', 'Age',\n",
              "       'Education level', 'Location', 'Nature', 'Quantile', 'Reporting Type',\n",
              "       'Sex', 'Type of skill', 'Units'],\n",
              "      dtype='object')"
            ]
          },
          "metadata": {
            "tags": []
          },
          "execution_count": 188
        }
      ]
    },
    {
      "cell_type": "code",
      "metadata": {
        "colab": {
          "base_uri": "https://localhost:8080/"
        },
        "id": "PyxnS_uLr2ym",
        "outputId": "f0c225a4-474e-47d7-8b82-d423c57245b8"
      },
      "source": [
        "final_df.isnull().sum()"
      ],
      "execution_count": null,
      "outputs": [
        {
          "output_type": "execute_result",
          "data": {
            "text/plain": [
              "Target                0\n",
              "Indicator             0\n",
              "SeriesCode            0\n",
              "GeoAreaCode           0\n",
              "GeoAreaName           0\n",
              "TimePeriod            0\n",
              "Value                 0\n",
              "Time_Detail           0\n",
              "Source                0\n",
              "FootNote           3989\n",
              "Age                3989\n",
              "Education level       0\n",
              "Location           3989\n",
              "Nature                0\n",
              "Quantile           3989\n",
              "Reporting Type        0\n",
              "Sex                   0\n",
              "Type of skill         0\n",
              "Units                 0\n",
              "dtype: int64"
            ]
          },
          "metadata": {
            "tags": []
          },
          "execution_count": 189
        }
      ]
    },
    {
      "cell_type": "code",
      "metadata": {
        "id": "TBPArFfgvAvr"
      },
      "source": [
        "final_df = final_df.drop([\"FootNote\", \"Age\", \"Location\", \"Quantile\"], axis=1)"
      ],
      "execution_count": null,
      "outputs": []
    },
    {
      "cell_type": "code",
      "metadata": {
        "id": "M_SVwCHtZtF4"
      },
      "source": [
        "final_df_percent = final_df.copy()"
      ],
      "execution_count": null,
      "outputs": []
    },
    {
      "cell_type": "code",
      "metadata": {
        "id": "0EUh1bvJbbxV"
      },
      "source": [
        "final_df_percent.groupby(\"Units\")"
      ],
      "execution_count": null,
      "outputs": []
    },
    {
      "cell_type": "code",
      "metadata": {
        "id": "FT50WUQybPPn"
      },
      "source": [
        "final_df_percent = final_df_percent[final_df_percent[\"Units\"] == \"PERCENT\"]"
      ],
      "execution_count": null,
      "outputs": []
    },
    {
      "cell_type": "code",
      "metadata": {
        "id": "d81wI3PBcTZb",
        "colab": {
          "base_uri": "https://localhost:8080/"
        },
        "outputId": "c44c297b-123b-46d1-afbc-47acf7d36f89"
      },
      "source": [
        "final_df_percent[\"Value\"].max()"
      ],
      "execution_count": null,
      "outputs": [
        {
          "output_type": "execute_result",
          "data": {
            "text/plain": [
              "99.6833297795958"
            ]
          },
          "metadata": {
            "tags": []
          },
          "execution_count": 193
        }
      ]
    },
    {
      "cell_type": "code",
      "metadata": {
        "id": "06nl62IQb9qy"
      },
      "source": [
        "sns.lineplot(data=final_df[final_df[\"GeoAreaCode\"] == 776], x=\"TimePeriod\", y=\"Value\", hue=\"Sex\", style=\"Education level\")"
      ],
      "execution_count": null,
      "outputs": []
    },
    {
      "cell_type": "markdown",
      "metadata": {
        "id": "NX6dsDsA-ibH"
      },
      "source": [
        "**Data Visualization**"
      ]
    },
    {
      "cell_type": "code",
      "metadata": {
        "id": "A8dFaMssZvSi",
        "colab": {
          "base_uri": "https://localhost:8080/",
          "height": 623
        },
        "outputId": "839518d9-5377-4663-e208-df435bf3a95e"
      },
      "source": [
        "fig_dims = (14, 10)\n",
        "fig, ax = plt.subplots(figsize=fig_dims)\n",
        "plt.xticks(np.arange(2000, 2021, step=1))\n",
        "sns.lineplot(data=final_df_percent, x=\"TimePeriod\", y=\"Value\", hue=\"Sex\", style=\"Education level\", ax=ax)"
      ],
      "execution_count": null,
      "outputs": [
        {
          "output_type": "execute_result",
          "data": {
            "text/plain": [
              "<matplotlib.axes._subplots.AxesSubplot at 0x7f995278b690>"
            ]
          },
          "metadata": {
            "tags": []
          },
          "execution_count": 205
        },
        {
          "output_type": "display_data",
          "data": {
            "image/png": "[encoded data removed]",
            "text/plain": [
              "<Figure size 1008x720 with 1 Axes>"
            ]
          },
          "metadata": {
            "tags": [],
            "needs_background": "light"
          }
        }
      ]
    },
    {
      "cell_type": "code",
      "metadata": {
        "colab": {
          "base_uri": "https://localhost:8080/",
          "height": 623
        },
        "id": "RRgkP2icw2hI",
        "outputId": "eea4fd42-1475-4f4f-cf41-a3b65db3c499"
      },
      "source": [
        "fig_dims = (14, 10)\n",
        "fig, ax = plt.subplots(figsize=fig_dims)\n",
        "sns.scatterplot(data=final_df_percent, x=\"TimePeriod\", y=\"Value\", hue=\"Sex\", style=\"Education level\", ax=ax)"
      ],
      "execution_count": null,
      "outputs": [
        {
          "output_type": "execute_result",
          "data": {
            "text/plain": [
              "<matplotlib.axes._subplots.AxesSubplot at 0x7f99528f4350>"
            ]
          },
          "metadata": {
            "tags": []
          },
          "execution_count": 202
        },
        {
          "output_type": "display_data",
          "data": {
            "image/png": "[encoded data removed]",
            "text/plain": [
              "<Figure size 1008x720 with 1 Axes>"
            ]
          },
          "metadata": {
            "tags": [],
            "needs_background": "light"
          }
        }
      ]
    },
    {
      "cell_type": "code",
      "metadata": {
        "id": "I9UG8pftf3fu"
      },
      "source": [
        "sns.boxplot(data=final_df_percent[final_df_percent[\"GeoAreaCode\"] == 76], x=\"Sex\", y=\"Value\")"
      ],
      "execution_count": null,
      "outputs": []
    },
    {
      "cell_type": "code",
      "metadata": {
        "id": "-o8aNWgMdJQc"
      },
      "source": [
        "sns.scatterplot(data=final_df_percent[final_df_percent[\"GeoAreaCode\"] == 776], x=\"TimePeriod\", y=\"Value\", hue=\"Sex\", style=\"Education level\")"
      ],
      "execution_count": null,
      "outputs": []
    },
    {
      "cell_type": "code",
      "metadata": {
        "id": "EWj5fZffaauA"
      },
      "source": [
        "\n",
        "sns.boxplot(data=final_df[final_df[\"GeoAreaCode\"] == 776], x=\"Education level\", y=\"Value\", hue=\"Sex\")"
      ],
      "execution_count": null,
      "outputs": []
    },
    {
      "cell_type": "code",
      "metadata": {
        "id": "Ai4p_ghFco2Y",
        "colab": {
          "base_uri": "https://localhost:8080/",
          "height": 623
        },
        "outputId": "fc088f45-6387-4048-9322-600898aeaf9d"
      },
      "source": [
        "fig_dims = (14, 10)\n",
        "fig, ax = plt.subplots(figsize=fig_dims)\n",
        "sns.boxplot(data=final_df_percent, x=\"Education level\", y=\"Value\", hue=\"Sex\", ax=ax)"
      ],
      "execution_count": null,
      "outputs": [
        {
          "output_type": "execute_result",
          "data": {
            "text/plain": [
              "<matplotlib.axes._subplots.AxesSubplot at 0x7f9952bb1410>"
            ]
          },
          "metadata": {
            "tags": []
          },
          "execution_count": 199
        },
        {
          "output_type": "display_data",
          "data": {
            "image/png": "[encoded data removed]",
            "text/plain": [
              "<Figure size 1008x720 with 1 Axes>"
            ]
          },
          "metadata": {
            "tags": [],
            "needs_background": "light"
          }
        }
      ]
    },
    {
      "cell_type": "code",
      "metadata": {
        "id": "Ub_Oys9beGou",
        "colab": {
          "base_uri": "https://localhost:8080/",
          "height": 296
        },
        "outputId": "28d22ec3-c0b1-4f63-dcd7-7f5e222b676b"
      },
      "source": [
        "sns.countplot(data=final_df_percent, x =\"Sex\" )"
      ],
      "execution_count": null,
      "outputs": [
        {
          "output_type": "execute_result",
          "data": {
            "text/plain": [
              "<matplotlib.axes._subplots.AxesSubplot at 0x7f99516af6d0>"
            ]
          },
          "metadata": {
            "tags": []
          },
          "execution_count": 197
        },
        {
          "output_type": "display_data",
          "data": {
            "image/png": "[encoded data removed]",
            "text/plain": [
              "<Figure size 432x288 with 1 Axes>"
            ]
          },
          "metadata": {
            "tags": [],
            "needs_background": "light"
          }
        }
      ]
    },
    {
      "cell_type": "code",
      "metadata": {
        "id": "AgSk_sO5elGL"
      },
      "source": [
        ""
      ],
      "execution_count": null,
      "outputs": []
    },
    {
      "cell_type": "code",
      "metadata": {
        "id": "ZIt2I4kgcHMR"
      },
      "source": [
        "sns.boxplot(data=final_df_percent[final_df_percent[\"GeoAreaCode\"] == 776], x=\"Education level\", y=\"Value\", hue=\"Sex\")"
      ],
      "execution_count": null,
      "outputs": []
    },
    {
      "cell_type": "code",
      "metadata": {
        "id": "s0w0h310a4qP",
        "colab": {
          "base_uri": "https://localhost:8080/",
          "height": 296
        },
        "outputId": "ef5374b4-e65b-4646-9d67-ce8137a21757"
      },
      "source": [
        "\n",
        "sns.boxplot(data=final_df[final_df[\"GeoAreaCode\"] == 756], x=\"Education level\", y=\"Value\", hue=\"Sex\")"
      ],
      "execution_count": null,
      "outputs": [
        {
          "output_type": "execute_result",
          "data": {
            "text/plain": [
              "<matplotlib.axes._subplots.AxesSubplot at 0x7f99529c7150>"
            ]
          },
          "metadata": {
            "tags": []
          },
          "execution_count": 201
        },
        {
          "output_type": "display_data",
          "data": {
            "image/png": "[encoded data removed]",
            "text/plain": [
              "<Figure size 432x288 with 1 Axes>"
            ]
          },
          "metadata": {
            "tags": [],
            "needs_background": "light"
          }
        }
      ]
    },
    {
      "cell_type": "code",
      "metadata": {
        "id": "AZiriLsgPI-t"
      },
      "source": [
        "df_test = final_df[final_df[\"TimePeriod\"] == 2019]"
      ],
      "execution_count": null,
      "outputs": []
    },
    {
      "cell_type": "markdown",
      "metadata": {
        "id": "m4JWeXhK-oJ_"
      },
      "source": [
        "**Convert the categorical data in to the numerical data to feed in to the Machine Learning model.**"
      ]
    },
    {
      "cell_type": "code",
      "metadata": {
        "id": "GA_K_2clfM00"
      },
      "source": [
        "final_df_percent_numeric = final_df_percent.copy()"
      ],
      "execution_count": null,
      "outputs": []
    },
    {
      "cell_type": "code",
      "metadata": {
        "id": "8-Ytas30ffAs"
      },
      "source": [
        "final_df_percent_numeric = final_df_percent_numeric.drop(\"GeoAreaName\", axis=1)"
      ],
      "execution_count": null,
      "outputs": []
    },
    {
      "cell_type": "code",
      "metadata": {
        "id": "nnnMSwjpfnjP"
      },
      "source": [
        "final_df_percent_numeric"
      ],
      "execution_count": null,
      "outputs": []
    },
    {
      "cell_type": "code",
      "metadata": {
        "id": "Nmleepz6iUUt"
      },
      "source": [
        "final_df_percent_numeric = pd.get_dummies(final_df_percent_numeric,drop_first=True)"
      ],
      "execution_count": null,
      "outputs": []
    },
    {
      "cell_type": "code",
      "metadata": {
        "id": "WyKAbD6jiXYY",
        "colab": {
          "base_uri": "https://localhost:8080/"
        },
        "outputId": "c2c956b8-0a55-468f-d682-3d9b7d7a1e47"
      },
      "source": [
        "final_df_percent_numeric[\"TimePeriod\"].unique()"
      ],
      "execution_count": null,
      "outputs": [
        {
          "output_type": "execute_result",
          "data": {
            "text/plain": [
              "array([2006, 2018, 2000, 2003, 2009, 2012, 2014, 2015, 2013, 2001, 2007,\n",
              "       2011, 2016, 2004, 2017, 2010, 2008, 2019])"
            ]
          },
          "metadata": {
            "tags": []
          },
          "execution_count": 210
        }
      ]
    },
    {
      "cell_type": "code",
      "metadata": {
        "id": "mPs6RmFPjPT7"
      },
      "source": [
        "test = final_df_percent_numeric[final_df_percent_numeric[\"TimePeriod\"] == 2019]"
      ],
      "execution_count": null,
      "outputs": []
    },
    {
      "cell_type": "code",
      "metadata": {
        "id": "1f9yEf-1jVpN"
      },
      "source": [
        "train = final_df_percent_numeric[final_df_percent_numeric[\"TimePeriod\"] < 2019]"
      ],
      "execution_count": null,
      "outputs": []
    },
    {
      "cell_type": "code",
      "metadata": {
        "id": "jq_mBQMVjY8_"
      },
      "source": [
        "test_y = test[\"Value\"]\n",
        "train_y = train[\"Value\"]\n",
        "test = test.drop(\"Value\", axis=1)\n",
        "train = train.drop(\"Value\", axis=1)"
      ],
      "execution_count": null,
      "outputs": []
    },
    {
      "cell_type": "code",
      "metadata": {
        "id": "7zFDPSKlic-o"
      },
      "source": [
        "from sklearn.model_selection import cross_val_score\n",
        "from sklearn.linear_model import LinearRegression\n",
        "\n",
        "linear_regressor2 = LinearRegression()\n",
        "linear_regressor2.fit(train,train_y)\n",
        "result = linear_regressor2.score(test, test_y)"
      ],
      "execution_count": null,
      "outputs": []
    },
    {
      "cell_type": "code",
      "metadata": {
        "id": "6gWPZqgVn_zY"
      },
      "source": [
        "test_predict = linear_regressor2.predict(test)"
      ],
      "execution_count": null,
      "outputs": []
    },
    {
      "cell_type": "code",
      "metadata": {
        "id": "l7Ds1bPzij4o"
      },
      "source": [
        "final_prediction_df = pd.DataFrame(test, columns=test.columns).reset_index()"
      ],
      "execution_count": null,
      "outputs": []
    },
    {
      "cell_type": "code",
      "metadata": {
        "id": "hrxEpWbLy_Xh"
      },
      "source": [
        "final_prediction_val = pd.DataFrame(test_predict, columns=[\"Value\"]).reset_index()"
      ],
      "execution_count": null,
      "outputs": []
    },
    {
      "cell_type": "code",
      "metadata": {
        "id": "bptncjN6yj9G"
      },
      "source": [
        "final_prediction_df = pd.concat([final_prediction_df, final_prediction_val], axis=1)"
      ],
      "execution_count": null,
      "outputs": []
    },
    {
      "cell_type": "code",
      "metadata": {
        "colab": {
          "base_uri": "https://localhost:8080/"
        },
        "id": "vyXHABeOzjgT",
        "outputId": "ee760844-3ee2-406d-8c9c-5596e0f1aa18"
      },
      "source": [
        "final_prediction_df[\"Value\"]"
      ],
      "execution_count": null,
      "outputs": [
        {
          "output_type": "execute_result",
          "data": {
            "text/plain": [
              "0    25.664171\n",
              "1    21.702375\n",
              "2    23.722839\n",
              "Name: Value, dtype: float64"
            ]
          },
          "metadata": {
            "tags": []
          },
          "execution_count": 233
        }
      ]
    },
    {
      "cell_type": "code",
      "metadata": {
        "id": "ZtIee7pOz4Cz",
        "colab": {
          "base_uri": "https://localhost:8080/"
        },
        "outputId": "261be621-0d13-4c64-d10e-7b1727dbc53c"
      },
      "source": [
        "test_y"
      ],
      "execution_count": null,
      "outputs": [
        {
          "output_type": "execute_result",
          "data": {
            "text/plain": [
              "3403    21.2\n",
              "3404    18.0\n",
              "3405    19.6\n",
              "Name: Value, dtype: float64"
            ]
          },
          "metadata": {
            "tags": []
          },
          "execution_count": 234
        }
      ]
    }
  ]
}